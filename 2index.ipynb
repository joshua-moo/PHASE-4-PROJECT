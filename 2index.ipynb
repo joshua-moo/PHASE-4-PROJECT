{
 "cells": [
  {
   "cell_type": "markdown",
   "metadata": {},
   "source": [
<<<<<<< HEAD
    "### Business Problem:\n",
    "\n",
    "### Title: Enhancing Movie Recommendations for User Engagement and Personalization\n",
    "\n",
    "\n",
    "Our company, MovieMagic, is an online movie streaming platform catering to a diverse user base. We aim to improve our movie recommendation system to increase user engagement and satisfaction. Currently, we rely on user activity data and movie metadata for recommendations. However, we lack explicit user ratings, which can significantly enhance the accuracy of our recommendations.\n",
    "\n",
    "### Problem Statement:\n",
    "MovieMagic seeks to revamp its movie recommendation system using the MovieLens dataset from the GroupLens research lab at the University of Minnesota, specifically the \"small\" dataset containing 100,000 user ratings. The primary challenges and objectives are as follows:\n",
    "\n",
    "\n",
    "### Business Understanding of Data Suitability:\n",
=======
    "###Business Problem:\n",
    "\n",
    "###Title: Enhancing Movie Recommendations for User Engagement and Personalization\n",
    "\n",
    "####Context:\n",
    "Our company, MovieMagic, is an online movie streaming platform catering to a diverse user base. We aim to improve our movie recommendation system to increase user engagement and satisfaction. Currently, we rely on user activity data and movie metadata for recommendations. However, we lack explicit user ratings, which can significantly enhance the accuracy of our recommendations.\n",
    "\n",
    "###Problem Statement:\n",
    "MovieMagic seeks to revamp its movie recommendation system using the MovieLens dataset from the GroupLens research lab at the University of Minnesota, specifically the \"small\" dataset containing 100,000 user ratings. The primary challenges and objectives are as follows:\n",
    "\n",
    "\n",
    "###Business Understanding of Data Suitability:\n",
>>>>>>> 1110fa12df991d4b4f184d845c17215057ad04fb
    "\n",
    "The MovieLens dataset from the GroupLens research lab at the University of Minnesota, specifically the \"small\" dataset containing 100,000 user ratings, is highly suitable for addressing MovieMagic's business problem of enhancing movie recommendations for user engagement and personalization. Here's how the dataset aligns with the business needs:\n",
    "Rich User Ratings Data\n",
    "User Diversity\n",
    "Movie Metadata\n",
    "Scalability\n",
    "Balancing Diversity and Personalization\n",
    "\n",
<<<<<<< HEAD
    "### Data preparation\n",
=======
    "###Data preparation\n",
>>>>>>> 1110fa12df991d4b4f184d845c17215057ad04fb
    "Merging DataFrames is important in data analysis and manipulation for several reasons:\n",
    "Combining Related Data\n",
    "Data Enrichment\n",
    "Analysis and Reporting\n",
    "Data Transformation\n",
    "Creating Features\n",
    "Business Insights\n",
    "\n",
<<<<<<< HEAD
    "### Modelling\n",
    "user-based collaborative\n",
    " it helps generate personalized recommendations for users based on their past behaviors and the behaviors of similar users.For example in this case we applied KNN ,hybrid and svd  modelling.\n",
    " ### Evaluation\n",
    "The best model being SVD , it is a widely recognized collaborative filtering technique for personalized movie recommendations based on user ratings, known for its effectiveness.\n",
    "\n",
    "Utilizing the user-friendly Surprise library, the code evaluates model performance with RMSE, a standard metric, and offers a practical top 5 movie recommendation list.\n"
   ]
  },
  {
   "cell_type": "markdown",
   "metadata": {},
   "source": [
    "# Project Begins"
=======
    "###Modelling\n",
    "user-based collaborative\n",
    " it helps generate personalized recommendations for users based on their past behaviors and the behaviors of similar users. for example we applied KNN in this case"
>>>>>>> 1110fa12df991d4b4f184d845c17215057ad04fb
   ]
  },
  {
   "cell_type": "code",
<<<<<<< HEAD
   "execution_count": 64,
=======
   "execution_count": 734,
>>>>>>> 1110fa12df991d4b4f184d845c17215057ad04fb
   "metadata": {},
   "outputs": [],
   "source": [
    "# importing the relevant packages\n",
    "import numpy as np\n",
    "import scipy.stats as stats\n",
    "import statsmodels.api as sm\n",
    "import pandas as pd\n",
    "import seaborn as sns\n",
    "import matplotlib.pyplot as plt\n",
    "plt.style.use('seaborn-v0_8-darkgrid')\n",
    "\n",
    "#ignoring warnings\n",
    "import warnings\n",
    "warnings.filterwarnings('ignore')\n",
    "\n",
    "#enabling plotting of visualizations in the notebook\n",
    "%matplotlib inline"
   ]
  },
  {
   "cell_type": "markdown",
   "metadata": {},
   "source": [
<<<<<<< HEAD
    "# Loading the relevant dataset"
=======
    "###loading the relevant dataset"
>>>>>>> 1110fa12df991d4b4f184d845c17215057ad04fb
   ]
  },
  {
   "cell_type": "code",
<<<<<<< HEAD
   "execution_count": 65,
=======
   "execution_count": 735,
>>>>>>> 1110fa12df991d4b4f184d845c17215057ad04fb
   "metadata": {},
   "outputs": [],
   "source": [
    "movies = pd.read_csv(\"movies.csv\")\n",
    "ratings = pd.read_csv(\"ratings.csv\")\n"
   ]
  },
  {
   "cell_type": "code",
<<<<<<< HEAD
   "execution_count": 66,
=======
   "execution_count": 736,
>>>>>>> 1110fa12df991d4b4f184d845c17215057ad04fb
   "metadata": {},
   "outputs": [
    {
     "data": {
      "text/plain": [
       "(9742, 3)"
      ]
     },
<<<<<<< HEAD
     "execution_count": 66,
=======
     "execution_count": 736,
>>>>>>> 1110fa12df991d4b4f184d845c17215057ad04fb
     "metadata": {},
     "output_type": "execute_result"
    }
   ],
   "source": [
    "movies.shape"
   ]
  },
  {
   "cell_type": "code",
<<<<<<< HEAD
   "execution_count": 67,
=======
   "execution_count": 737,
>>>>>>> 1110fa12df991d4b4f184d845c17215057ad04fb
   "metadata": {},
   "outputs": [
    {
     "data": {
      "text/plain": [
       "(100836, 4)"
      ]
     },
<<<<<<< HEAD
     "execution_count": 67,
=======
     "execution_count": 737,
>>>>>>> 1110fa12df991d4b4f184d845c17215057ad04fb
     "metadata": {},
     "output_type": "execute_result"
    }
   ],
   "source": [
    "ratings.shape"
   ]
  },
  {
<<<<<<< HEAD
   "cell_type": "markdown",
   "metadata": {},
   "source": [
    "# Data Preparation"
   ]
  },
  {
   "cell_type": "code",
   "execution_count": 68,
=======
   "cell_type": "code",
   "execution_count": 738,
>>>>>>> 1110fa12df991d4b4f184d845c17215057ad04fb
   "metadata": {},
   "outputs": [
    {
     "data": {
      "text/html": [
       "<div>\n",
       "<style scoped>\n",
       "    .dataframe tbody tr th:only-of-type {\n",
       "        vertical-align: middle;\n",
       "    }\n",
       "\n",
       "    .dataframe tbody tr th {\n",
       "        vertical-align: top;\n",
       "    }\n",
       "\n",
       "    .dataframe thead th {\n",
       "        text-align: right;\n",
       "    }\n",
       "</style>\n",
       "<table border=\"1\" class=\"dataframe\">\n",
       "  <thead>\n",
       "    <tr style=\"text-align: right;\">\n",
       "      <th></th>\n",
       "      <th>movieId</th>\n",
       "      <th>title</th>\n",
       "      <th>genres</th>\n",
       "      <th>userId</th>\n",
       "      <th>rating</th>\n",
       "      <th>timestamp</th>\n",
       "    </tr>\n",
       "  </thead>\n",
       "  <tbody>\n",
       "    <tr>\n",
       "      <th>0</th>\n",
       "      <td>1</td>\n",
       "      <td>Toy Story (1995)</td>\n",
       "      <td>Adventure|Animation|Children|Comedy|Fantasy</td>\n",
       "      <td>1</td>\n",
       "      <td>4.0</td>\n",
       "      <td>964982703</td>\n",
       "    </tr>\n",
       "    <tr>\n",
       "      <th>1</th>\n",
       "      <td>1</td>\n",
       "      <td>Toy Story (1995)</td>\n",
       "      <td>Adventure|Animation|Children|Comedy|Fantasy</td>\n",
       "      <td>5</td>\n",
       "      <td>4.0</td>\n",
       "      <td>847434962</td>\n",
       "    </tr>\n",
       "    <tr>\n",
       "      <th>2</th>\n",
       "      <td>1</td>\n",
       "      <td>Toy Story (1995)</td>\n",
       "      <td>Adventure|Animation|Children|Comedy|Fantasy</td>\n",
       "      <td>7</td>\n",
       "      <td>4.5</td>\n",
       "      <td>1106635946</td>\n",
       "    </tr>\n",
       "    <tr>\n",
       "      <th>3</th>\n",
       "      <td>1</td>\n",
       "      <td>Toy Story (1995)</td>\n",
       "      <td>Adventure|Animation|Children|Comedy|Fantasy</td>\n",
       "      <td>15</td>\n",
       "      <td>2.5</td>\n",
       "      <td>1510577970</td>\n",
       "    </tr>\n",
       "    <tr>\n",
       "      <th>4</th>\n",
       "      <td>1</td>\n",
       "      <td>Toy Story (1995)</td>\n",
       "      <td>Adventure|Animation|Children|Comedy|Fantasy</td>\n",
       "      <td>17</td>\n",
       "      <td>4.5</td>\n",
       "      <td>1305696483</td>\n",
       "    </tr>\n",
       "    <tr>\n",
       "      <th>...</th>\n",
       "      <td>...</td>\n",
       "      <td>...</td>\n",
       "      <td>...</td>\n",
       "      <td>...</td>\n",
       "      <td>...</td>\n",
       "      <td>...</td>\n",
       "    </tr>\n",
       "    <tr>\n",
       "      <th>100831</th>\n",
       "      <td>193581</td>\n",
       "      <td>Black Butler: Book of the Atlantic (2017)</td>\n",
       "      <td>Action|Animation|Comedy|Fantasy</td>\n",
       "      <td>184</td>\n",
       "      <td>4.0</td>\n",
       "      <td>1537109082</td>\n",
       "    </tr>\n",
       "    <tr>\n",
       "      <th>100832</th>\n",
       "      <td>193583</td>\n",
       "      <td>No Game No Life: Zero (2017)</td>\n",
       "      <td>Animation|Comedy|Fantasy</td>\n",
       "      <td>184</td>\n",
       "      <td>3.5</td>\n",
       "      <td>1537109545</td>\n",
       "    </tr>\n",
       "    <tr>\n",
       "      <th>100833</th>\n",
       "      <td>193585</td>\n",
       "      <td>Flint (2017)</td>\n",
       "      <td>Drama</td>\n",
       "      <td>184</td>\n",
       "      <td>3.5</td>\n",
       "      <td>1537109805</td>\n",
       "    </tr>\n",
       "    <tr>\n",
       "      <th>100834</th>\n",
       "      <td>193587</td>\n",
       "      <td>Bungo Stray Dogs: Dead Apple (2018)</td>\n",
       "      <td>Action|Animation</td>\n",
       "      <td>184</td>\n",
       "      <td>3.5</td>\n",
       "      <td>1537110021</td>\n",
       "    </tr>\n",
       "    <tr>\n",
       "      <th>100835</th>\n",
       "      <td>193609</td>\n",
       "      <td>Andrew Dice Clay: Dice Rules (1991)</td>\n",
       "      <td>Comedy</td>\n",
       "      <td>331</td>\n",
       "      <td>4.0</td>\n",
       "      <td>1537157606</td>\n",
       "    </tr>\n",
       "  </tbody>\n",
       "</table>\n",
       "<p>100836 rows × 6 columns</p>\n",
       "</div>"
      ],
      "text/plain": [
       "        movieId                                      title  \\\n",
       "0             1                           Toy Story (1995)   \n",
       "1             1                           Toy Story (1995)   \n",
       "2             1                           Toy Story (1995)   \n",
       "3             1                           Toy Story (1995)   \n",
       "4             1                           Toy Story (1995)   \n",
       "...         ...                                        ...   \n",
       "100831   193581  Black Butler: Book of the Atlantic (2017)   \n",
       "100832   193583               No Game No Life: Zero (2017)   \n",
       "100833   193585                               Flint (2017)   \n",
       "100834   193587        Bungo Stray Dogs: Dead Apple (2018)   \n",
       "100835   193609        Andrew Dice Clay: Dice Rules (1991)   \n",
       "\n",
       "                                             genres  userId  rating  \\\n",
       "0       Adventure|Animation|Children|Comedy|Fantasy       1     4.0   \n",
       "1       Adventure|Animation|Children|Comedy|Fantasy       5     4.0   \n",
       "2       Adventure|Animation|Children|Comedy|Fantasy       7     4.5   \n",
       "3       Adventure|Animation|Children|Comedy|Fantasy      15     2.5   \n",
       "4       Adventure|Animation|Children|Comedy|Fantasy      17     4.5   \n",
       "...                                             ...     ...     ...   \n",
       "100831              Action|Animation|Comedy|Fantasy     184     4.0   \n",
       "100832                     Animation|Comedy|Fantasy     184     3.5   \n",
       "100833                                        Drama     184     3.5   \n",
       "100834                             Action|Animation     184     3.5   \n",
       "100835                                       Comedy     331     4.0   \n",
       "\n",
       "         timestamp  \n",
       "0        964982703  \n",
       "1        847434962  \n",
       "2       1106635946  \n",
       "3       1510577970  \n",
       "4       1305696483  \n",
       "...            ...  \n",
       "100831  1537109082  \n",
       "100832  1537109545  \n",
       "100833  1537109805  \n",
       "100834  1537110021  \n",
       "100835  1537157606  \n",
       "\n",
       "[100836 rows x 6 columns]"
      ]
     },
<<<<<<< HEAD
     "execution_count": 68,
=======
     "execution_count": 738,
>>>>>>> 1110fa12df991d4b4f184d845c17215057ad04fb
     "metadata": {},
     "output_type": "execute_result"
    }
   ],
   "source": [
    "merged = pd.merge (movies, ratings,  on='movieId', how='inner')\n",
    "merged"
   ]
  },
  {
   "cell_type": "code",
<<<<<<< HEAD
   "execution_count": 69,
=======
   "execution_count": 739,
>>>>>>> 1110fa12df991d4b4f184d845c17215057ad04fb
   "metadata": {},
   "outputs": [
    {
     "data": {
      "text/plain": [
       "(100836, 6)"
      ]
     },
<<<<<<< HEAD
     "execution_count": 69,
=======
     "execution_count": 739,
>>>>>>> 1110fa12df991d4b4f184d845c17215057ad04fb
     "metadata": {},
     "output_type": "execute_result"
    }
   ],
   "source": [
    "merged.shape"
   ]
  },
  {
   "cell_type": "code",
<<<<<<< HEAD
   "execution_count": 70,
=======
   "execution_count": 740,
>>>>>>> 1110fa12df991d4b4f184d845c17215057ad04fb
   "metadata": {},
   "outputs": [
    {
     "data": {
      "text/html": [
       "<div>\n",
       "<style scoped>\n",
       "    .dataframe tbody tr th:only-of-type {\n",
       "        vertical-align: middle;\n",
       "    }\n",
       "\n",
       "    .dataframe tbody tr th {\n",
       "        vertical-align: top;\n",
       "    }\n",
       "\n",
       "    .dataframe thead th {\n",
       "        text-align: right;\n",
       "    }\n",
       "</style>\n",
       "<table border=\"1\" class=\"dataframe\">\n",
       "  <thead>\n",
       "    <tr style=\"text-align: right;\">\n",
       "      <th></th>\n",
       "      <th>movieId</th>\n",
       "      <th>title</th>\n",
       "      <th>genres</th>\n",
       "      <th>userId</th>\n",
       "      <th>rating</th>\n",
       "    </tr>\n",
       "  </thead>\n",
       "  <tbody>\n",
       "    <tr>\n",
       "      <th>0</th>\n",
       "      <td>1</td>\n",
       "      <td>Toy Story (1995)</td>\n",
       "      <td>Adventure|Animation|Children|Comedy|Fantasy</td>\n",
       "      <td>1</td>\n",
       "      <td>4.0</td>\n",
       "    </tr>\n",
       "    <tr>\n",
       "      <th>1</th>\n",
       "      <td>1</td>\n",
       "      <td>Toy Story (1995)</td>\n",
       "      <td>Adventure|Animation|Children|Comedy|Fantasy</td>\n",
       "      <td>5</td>\n",
       "      <td>4.0</td>\n",
       "    </tr>\n",
       "    <tr>\n",
       "      <th>2</th>\n",
       "      <td>1</td>\n",
       "      <td>Toy Story (1995)</td>\n",
       "      <td>Adventure|Animation|Children|Comedy|Fantasy</td>\n",
       "      <td>7</td>\n",
       "      <td>4.5</td>\n",
       "    </tr>\n",
       "    <tr>\n",
       "      <th>3</th>\n",
       "      <td>1</td>\n",
       "      <td>Toy Story (1995)</td>\n",
       "      <td>Adventure|Animation|Children|Comedy|Fantasy</td>\n",
       "      <td>15</td>\n",
       "      <td>2.5</td>\n",
       "    </tr>\n",
       "    <tr>\n",
       "      <th>4</th>\n",
       "      <td>1</td>\n",
       "      <td>Toy Story (1995)</td>\n",
       "      <td>Adventure|Animation|Children|Comedy|Fantasy</td>\n",
       "      <td>17</td>\n",
       "      <td>4.5</td>\n",
       "    </tr>\n",
       "    <tr>\n",
       "      <th>5</th>\n",
       "      <td>1</td>\n",
       "      <td>Toy Story (1995)</td>\n",
       "      <td>Adventure|Animation|Children|Comedy|Fantasy</td>\n",
       "      <td>18</td>\n",
       "      <td>3.5</td>\n",
       "    </tr>\n",
       "    <tr>\n",
       "      <th>6</th>\n",
       "      <td>1</td>\n",
       "      <td>Toy Story (1995)</td>\n",
       "      <td>Adventure|Animation|Children|Comedy|Fantasy</td>\n",
       "      <td>19</td>\n",
       "      <td>4.0</td>\n",
       "    </tr>\n",
       "    <tr>\n",
       "      <th>7</th>\n",
       "      <td>1</td>\n",
       "      <td>Toy Story (1995)</td>\n",
       "      <td>Adventure|Animation|Children|Comedy|Fantasy</td>\n",
       "      <td>21</td>\n",
       "      <td>3.5</td>\n",
       "    </tr>\n",
       "    <tr>\n",
       "      <th>8</th>\n",
       "      <td>1</td>\n",
       "      <td>Toy Story (1995)</td>\n",
       "      <td>Adventure|Animation|Children|Comedy|Fantasy</td>\n",
       "      <td>27</td>\n",
       "      <td>3.0</td>\n",
       "    </tr>\n",
       "    <tr>\n",
       "      <th>9</th>\n",
       "      <td>1</td>\n",
       "      <td>Toy Story (1995)</td>\n",
       "      <td>Adventure|Animation|Children|Comedy|Fantasy</td>\n",
       "      <td>31</td>\n",
       "      <td>5.0</td>\n",
       "    </tr>\n",
       "  </tbody>\n",
       "</table>\n",
       "</div>"
      ],
      "text/plain": [
       "   movieId             title                                       genres  \\\n",
       "0        1  Toy Story (1995)  Adventure|Animation|Children|Comedy|Fantasy   \n",
       "1        1  Toy Story (1995)  Adventure|Animation|Children|Comedy|Fantasy   \n",
       "2        1  Toy Story (1995)  Adventure|Animation|Children|Comedy|Fantasy   \n",
       "3        1  Toy Story (1995)  Adventure|Animation|Children|Comedy|Fantasy   \n",
       "4        1  Toy Story (1995)  Adventure|Animation|Children|Comedy|Fantasy   \n",
       "5        1  Toy Story (1995)  Adventure|Animation|Children|Comedy|Fantasy   \n",
       "6        1  Toy Story (1995)  Adventure|Animation|Children|Comedy|Fantasy   \n",
       "7        1  Toy Story (1995)  Adventure|Animation|Children|Comedy|Fantasy   \n",
       "8        1  Toy Story (1995)  Adventure|Animation|Children|Comedy|Fantasy   \n",
       "9        1  Toy Story (1995)  Adventure|Animation|Children|Comedy|Fantasy   \n",
       "\n",
       "   userId  rating  \n",
       "0       1     4.0  \n",
       "1       5     4.0  \n",
       "2       7     4.5  \n",
       "3      15     2.5  \n",
       "4      17     4.5  \n",
       "5      18     3.5  \n",
       "6      19     4.0  \n",
       "7      21     3.5  \n",
       "8      27     3.0  \n",
       "9      31     5.0  "
      ]
     },
<<<<<<< HEAD
     "execution_count": 70,
=======
     "execution_count": 740,
>>>>>>> 1110fa12df991d4b4f184d845c17215057ad04fb
     "metadata": {},
     "output_type": "execute_result"
    }
   ],
   "source": [
    "#dropping columns and assigning to new variable data\n",
    "merged.drop(columns = [\"timestamp\"], inplace=True)\n",
    "\n",
    "#previewing the first 10 rows\n",
    "merged.head(10)"
   ]
  },
  {
   "cell_type": "code",
<<<<<<< HEAD
   "execution_count": 198,
=======
   "execution_count": 741,
>>>>>>> 1110fa12df991d4b4f184d845c17215057ad04fb
   "metadata": {},
   "outputs": [
    {
     "name": "stdout",
     "output_type": "stream",
     "text": [
<<<<<<< HEAD
      "(100836, 4)\n"
=======
      "(100836, 5)\n"
>>>>>>> 1110fa12df991d4b4f184d845c17215057ad04fb
     ]
    }
   ],
   "source": [
    "merged.shape\n",
    "shape = merged.shape\n",
    "print(shape)"
   ]
  },
  {
<<<<<<< HEAD
   "cell_type": "markdown",
   "metadata": {},
   "source": [
    "# Data Wrangling"
   ]
  },
  {
   "cell_type": "code",
   "execution_count": 72,
=======
   "cell_type": "code",
   "execution_count": 742,
>>>>>>> 1110fa12df991d4b4f184d845c17215057ad04fb
   "metadata": {},
   "outputs": [],
   "source": [
    "#checking  for missing values\n",
    "missing_values = merged.isna().sum()\n"
   ]
  },
  {
   "cell_type": "code",
<<<<<<< HEAD
   "execution_count": 73,
=======
   "execution_count": 743,
>>>>>>> 1110fa12df991d4b4f184d845c17215057ad04fb
   "metadata": {},
   "outputs": [
    {
     "name": "stdout",
     "output_type": "stream",
     "text": [
      "(100836, 5)\n"
     ]
    }
   ],
   "source": [
    "merged['userId'].fillna(merged['userId'].mean(), inplace=True)\n",
    "shape = merged.shape\n",
    "print(shape)"
   ]
  },
  {
   "cell_type": "code",
<<<<<<< HEAD
   "execution_count": 74,
=======
   "execution_count": 744,
>>>>>>> 1110fa12df991d4b4f184d845c17215057ad04fb
   "metadata": {},
   "outputs": [
    {
     "name": "stdout",
     "output_type": "stream",
     "text": [
      "(100836, 5)\n"
     ]
    }
   ],
   "source": [
    "merged['rating'].fillna(merged['rating'].mean(), inplace=True)\n",
    "shape = merged.shape\n",
    "print(shape)\n"
   ]
  },
  {
   "cell_type": "code",
<<<<<<< HEAD
   "execution_count": 75,
=======
   "execution_count": 745,
>>>>>>> 1110fa12df991d4b4f184d845c17215057ad04fb
   "metadata": {},
   "outputs": [
    {
     "name": "stdout",
     "output_type": "stream",
     "text": [
      "(100836, 5)\n"
     ]
    }
   ],
   "source": [
    "merged['title'].fillna(merged['title'].mode(), inplace=True)\n",
    "shape = merged.shape\n",
    "print(shape)"
   ]
  },
  {
   "cell_type": "code",
<<<<<<< HEAD
   "execution_count": 76,
=======
   "execution_count": 746,
>>>>>>> 1110fa12df991d4b4f184d845c17215057ad04fb
   "metadata": {},
   "outputs": [
    {
     "name": "stdout",
     "output_type": "stream",
     "text": [
      "(100836, 5)\n"
     ]
    }
   ],
   "source": [
    "merged['genres'].fillna(merged['genres'].mode(), inplace=True)\n",
    "shape = merged.shape\n",
    "print(shape)"
   ]
  },
  {
   "cell_type": "code",
<<<<<<< HEAD
   "execution_count": 77,
=======
   "execution_count": 747,
>>>>>>> 1110fa12df991d4b4f184d845c17215057ad04fb
   "metadata": {},
   "outputs": [
    {
     "data": {
      "text/html": [
       "<div>\n",
       "<style scoped>\n",
       "    .dataframe tbody tr th:only-of-type {\n",
       "        vertical-align: middle;\n",
       "    }\n",
       "\n",
       "    .dataframe tbody tr th {\n",
       "        vertical-align: top;\n",
       "    }\n",
       "\n",
       "    .dataframe thead th {\n",
       "        text-align: right;\n",
       "    }\n",
       "</style>\n",
       "<table border=\"1\" class=\"dataframe\">\n",
       "  <thead>\n",
       "    <tr style=\"text-align: right;\">\n",
       "      <th></th>\n",
       "      <th>movieId</th>\n",
       "      <th>title</th>\n",
       "      <th>genres</th>\n",
       "      <th>userId</th>\n",
       "      <th>rating</th>\n",
       "    </tr>\n",
       "  </thead>\n",
       "  <tbody>\n",
       "    <tr>\n",
       "      <th>0</th>\n",
       "      <td>1</td>\n",
       "      <td>Toy Story (1995)</td>\n",
       "      <td>Adventure|Animation|Children|Comedy|Fantasy</td>\n",
       "      <td>1</td>\n",
       "      <td>4.0</td>\n",
       "    </tr>\n",
       "    <tr>\n",
       "      <th>1</th>\n",
       "      <td>1</td>\n",
       "      <td>Toy Story (1995)</td>\n",
       "      <td>Adventure|Animation|Children|Comedy|Fantasy</td>\n",
       "      <td>5</td>\n",
       "      <td>4.0</td>\n",
       "    </tr>\n",
       "    <tr>\n",
       "      <th>2</th>\n",
       "      <td>1</td>\n",
       "      <td>Toy Story (1995)</td>\n",
       "      <td>Adventure|Animation|Children|Comedy|Fantasy</td>\n",
       "      <td>7</td>\n",
       "      <td>4.5</td>\n",
       "    </tr>\n",
       "    <tr>\n",
       "      <th>3</th>\n",
       "      <td>1</td>\n",
       "      <td>Toy Story (1995)</td>\n",
       "      <td>Adventure|Animation|Children|Comedy|Fantasy</td>\n",
       "      <td>15</td>\n",
       "      <td>2.5</td>\n",
       "    </tr>\n",
       "    <tr>\n",
       "      <th>4</th>\n",
       "      <td>1</td>\n",
       "      <td>Toy Story (1995)</td>\n",
       "      <td>Adventure|Animation|Children|Comedy|Fantasy</td>\n",
       "      <td>17</td>\n",
       "      <td>4.5</td>\n",
       "    </tr>\n",
       "    <tr>\n",
       "      <th>...</th>\n",
       "      <td>...</td>\n",
       "      <td>...</td>\n",
       "      <td>...</td>\n",
       "      <td>...</td>\n",
       "      <td>...</td>\n",
       "    </tr>\n",
       "    <tr>\n",
       "      <th>100831</th>\n",
       "      <td>193581</td>\n",
       "      <td>Black Butler: Book of the Atlantic (2017)</td>\n",
       "      <td>Action|Animation|Comedy|Fantasy</td>\n",
       "      <td>184</td>\n",
       "      <td>4.0</td>\n",
       "    </tr>\n",
       "    <tr>\n",
       "      <th>100832</th>\n",
       "      <td>193583</td>\n",
       "      <td>No Game No Life: Zero (2017)</td>\n",
       "      <td>Animation|Comedy|Fantasy</td>\n",
       "      <td>184</td>\n",
       "      <td>3.5</td>\n",
       "    </tr>\n",
       "    <tr>\n",
       "      <th>100833</th>\n",
       "      <td>193585</td>\n",
       "      <td>Flint (2017)</td>\n",
       "      <td>Drama</td>\n",
       "      <td>184</td>\n",
       "      <td>3.5</td>\n",
       "    </tr>\n",
       "    <tr>\n",
       "      <th>100834</th>\n",
       "      <td>193587</td>\n",
       "      <td>Bungo Stray Dogs: Dead Apple (2018)</td>\n",
       "      <td>Action|Animation</td>\n",
       "      <td>184</td>\n",
       "      <td>3.5</td>\n",
       "    </tr>\n",
       "    <tr>\n",
       "      <th>100835</th>\n",
       "      <td>193609</td>\n",
       "      <td>Andrew Dice Clay: Dice Rules (1991)</td>\n",
       "      <td>Comedy</td>\n",
       "      <td>331</td>\n",
       "      <td>4.0</td>\n",
       "    </tr>\n",
       "  </tbody>\n",
       "</table>\n",
       "<p>100836 rows × 5 columns</p>\n",
       "</div>"
      ],
      "text/plain": [
       "        movieId                                      title  \\\n",
       "0             1                           Toy Story (1995)   \n",
       "1             1                           Toy Story (1995)   \n",
       "2             1                           Toy Story (1995)   \n",
       "3             1                           Toy Story (1995)   \n",
       "4             1                           Toy Story (1995)   \n",
       "...         ...                                        ...   \n",
       "100831   193581  Black Butler: Book of the Atlantic (2017)   \n",
       "100832   193583               No Game No Life: Zero (2017)   \n",
       "100833   193585                               Flint (2017)   \n",
       "100834   193587        Bungo Stray Dogs: Dead Apple (2018)   \n",
       "100835   193609        Andrew Dice Clay: Dice Rules (1991)   \n",
       "\n",
       "                                             genres  userId  rating  \n",
       "0       Adventure|Animation|Children|Comedy|Fantasy       1     4.0  \n",
       "1       Adventure|Animation|Children|Comedy|Fantasy       5     4.0  \n",
       "2       Adventure|Animation|Children|Comedy|Fantasy       7     4.5  \n",
       "3       Adventure|Animation|Children|Comedy|Fantasy      15     2.5  \n",
       "4       Adventure|Animation|Children|Comedy|Fantasy      17     4.5  \n",
       "...                                             ...     ...     ...  \n",
       "100831              Action|Animation|Comedy|Fantasy     184     4.0  \n",
       "100832                     Animation|Comedy|Fantasy     184     3.5  \n",
       "100833                                        Drama     184     3.5  \n",
       "100834                             Action|Animation     184     3.5  \n",
       "100835                                       Comedy     331     4.0  \n",
       "\n",
       "[100836 rows x 5 columns]"
      ]
     },
<<<<<<< HEAD
     "execution_count": 77,
=======
     "execution_count": 747,
>>>>>>> 1110fa12df991d4b4f184d845c17215057ad04fb
     "metadata": {},
     "output_type": "execute_result"
    }
   ],
   "source": [
    "merged"
   ]
  },
  {
   "cell_type": "code",
<<<<<<< HEAD
   "execution_count": 149,
=======
   "execution_count": 748,
>>>>>>> 1110fa12df991d4b4f184d845c17215057ad04fb
   "metadata": {},
   "outputs": [
    {
     "name": "stdout",
     "output_type": "stream",
     "text": [
      "Summary Statistics:\n",
<<<<<<< HEAD
      "              rating         userId        movieId\n",
      "count  100836.000000  100836.000000  100836.000000\n",
      "mean        3.501557     326.127564   19435.295718\n",
      "std         1.042529     182.618491   35530.987199\n",
      "min         0.500000       1.000000       1.000000\n",
      "25%         3.000000     177.000000    1199.000000\n",
      "50%         3.500000     325.000000    2991.000000\n",
      "75%         4.000000     477.000000    8122.000000\n",
      "max         5.000000     610.000000  193609.000000\n",
      "\n",
      "Mean Rating: 3.501556983616962\n",
      "Mode Rating: 4.0\n",
      "Median Rating: 3.5\n"
=======
      "       userId  movieId    rating\n",
      "count     3.0      3.0  3.000000\n",
      "mean      2.0    102.0  4.166667\n",
      "std       1.0      1.0  1.040833\n",
      "min       1.0    101.0  3.000000\n",
      "25%       1.5    101.5  3.750000\n",
      "50%       2.0    102.0  4.500000\n",
      "75%       2.5    102.5  4.750000\n",
      "max       3.0    103.0  5.000000\n",
      "\n",
      "Mean Rating: 4.166666666666667\n",
      "Mode Rating: 3.0\n",
      "Median Rating: 4.5\n"
>>>>>>> 1110fa12df991d4b4f184d845c17215057ad04fb
     ]
    }
   ],
   "source": [
    "import pandas as pd\n",
    "\n",
    "# Assuming you have your dataset loaded into a DataFrame df\n",
    "\n",
    "# Summary statistics\n",
<<<<<<< HEAD
    "summary_stats = merged.describe()\n",
    "\n",
    "# Calculate mean, mode, and median\n",
    "mean_rating = merged['rating'].mean()\n",
    "mode_rating = merged['rating'].mode().values[0]  # Mode can have multiple values, so we take the first one\n",
    "median_rating = merged['rating'].median()\n",
=======
    "summary_stats = df.describe()\n",
    "\n",
    "# Calculate mean, mode, and median\n",
    "mean_rating = df['rating'].mean()\n",
    "mode_rating = df['rating'].mode().values[0]  # Mode can have multiple values, so we take the first one\n",
    "median_rating = df['rating'].median()\n",
>>>>>>> 1110fa12df991d4b4f184d845c17215057ad04fb
    "\n",
    "# Display summary statistics and calculated values\n",
    "print(\"Summary Statistics:\")\n",
    "print(summary_stats)\n",
    "\n",
    "print(\"\\nMean Rating:\", mean_rating)\n",
    "print(\"Mode Rating:\", mode_rating)\n",
    "print(\"Median Rating:\", median_rating)\n"
   ]
  },
  {
   "cell_type": "markdown",
   "metadata": {},
   "source": [
    "These statistics provide insights into the central tendencies, variability, and distribution of the data in your dataset, which can help you understand the characteristics of your dataset and make data-driven decisions or further analyze the data as needed.\n",
    "\n",
    "\n",
    "\n",
    "\n"
   ]
  },
  {
   "cell_type": "markdown",
   "metadata": {},
   "source": [
<<<<<<< HEAD
    "# Data  Visualizations"
=======
    "###Data  Visualizations"
>>>>>>> 1110fa12df991d4b4f184d845c17215057ad04fb
   ]
  },
  {
   "cell_type": "code",
<<<<<<< HEAD
   "execution_count": null,
=======
   "execution_count": 749,
>>>>>>> 1110fa12df991d4b4f184d845c17215057ad04fb
   "metadata": {},
   "outputs": [
    {
     "data": {
      "image/png": "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",
      "text/plain": [
       "<Figure size 640x480 with 1 Axes>"
      ]
     },
     "metadata": {},
     "output_type": "display_data"
    }
   ],
   "source": [
    "import matplotlib.pyplot as plt\n",
    "merged['rating'].hist(bins=5)  # Adjust the number of bins as needed\n",
    "plt.xlabel('Rating')\n",
    "plt.ylabel('Frequency')\n",
    "plt.title('Distribution of Movie Ratings')\n",
    "plt.show()\n"
   ]
  },
  {
   "cell_type": "code",
<<<<<<< HEAD
   "execution_count": null,
=======
   "execution_count": 750,
>>>>>>> 1110fa12df991d4b4f184d845c17215057ad04fb
   "metadata": {},
   "outputs": [
    {
     "data": {
      "image/png": "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",
      "text/plain": [
       "<Figure size 1000x600 with 1 Axes>"
      ]
     },
     "metadata": {},
     "output_type": "display_data"
    }
   ],
   "source": [
    "genres_counts = merged['genres'].value_counts().head(10)  # Display the top 10 genres\n",
    "genres_counts.plot(kind='barh', figsize=(10, 6))\n",
    "plt.xlabel('Frequency')\n",
    "plt.ylabel('Genres')\n",
    "plt.title('Top Movie Genres')\n",
    "plt.show()\n"
   ]
  },
  {
   "cell_type": "code",
<<<<<<< HEAD
   "execution_count": null,
=======
   "execution_count": 751,
>>>>>>> 1110fa12df991d4b4f184d845c17215057ad04fb
   "metadata": {},
   "outputs": [
    {
     "data": {
      "image/png": "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",
      "text/plain": [
       "<Figure size 1000x600 with 1 Axes>"
      ]
     },
     "metadata": {},
     "output_type": "display_data"
    }
   ],
   "source": [
    "genres_counts = merged['title'].value_counts().head(10)  # Display the top 10 genres\n",
    "genres_counts.plot(kind='barh', figsize=(10, 6))\n",
    "plt.xlabel('userid')\n",
    "plt.ylabel('title')\n",
    "plt.title('Top Movie Genres')\n",
    "plt.show()"
   ]
  },
  {
   "cell_type": "code",
<<<<<<< HEAD
   "execution_count": null,
=======
   "execution_count": 752,
>>>>>>> 1110fa12df991d4b4f184d845c17215057ad04fb
   "metadata": {},
   "outputs": [
    {
     "data": {
      "image/png": "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",
      "text/plain": [
       "<Figure size 1200x600 with 1 Axes>"
      ]
     },
     "metadata": {},
     "output_type": "display_data"
    }
   ],
   "source": [
    "\n",
    "import matplotlib.pyplot as plt\n",
    "\n",
    "# Assuming 'df' is your DataFrame with 'title' and 'rating' columns\n",
    "# Replace 'df' with your actual DataFrame name\n",
    "\n",
    "# Group the data by 'title' and calculate the mean rating for each movie\n",
    "#average_ratings = merged.groupby('title')['rating'].mean()\n",
    "\n",
    "# Sort the movies by average rating in descending order\n",
    "#average_ratings_sorted = average_ratings.sort_values(ascending=False)\n",
    "\n",
    "# Create a bar graph for the top N movies (adjust N as needed)\n",
    "top_n = 10  # Change this value to display a different number of movies\n",
    "top_movies = average_ratings_sorted[:top_n]\n",
    "\n",
    "# Create the bar graph with just the ratings\n",
    "plt.figure(figsize=(12, 6))\n",
    "plt.barh(top_movies.index, top_movies.values, color='b')\n",
    "plt.title(f'Top {top_n} Movies by Rating')\n",
    "plt.xlabel('Rating')\n",
    "plt.ylabel('Movie Title')\n",
    "plt.gca().invert_yaxis()  # Invert the y-axis to display the highest-rated movie at the top\n",
    "plt.grid(axis='x', linestyle='--', alpha=0.6)\n",
    "\n",
    "# Display the bar graph\n",
    "plt.tight_layout()\n",
    "plt.show()\n",
    "\n"
   ]
  },
  {
   "cell_type": "markdown",
   "metadata": {},
   "source": [
<<<<<<< HEAD
    "#  Modelling"
=======
    "###Modelling"
>>>>>>> 1110fa12df991d4b4f184d845c17215057ad04fb
   ]
  },
  {
   "cell_type": "code",
<<<<<<< HEAD
   "execution_count": 201,
=======
   "execution_count": 753,
   "metadata": {},
   "outputs": [
    {
     "data": {
      "text/html": [
       "<div>\n",
       "<style scoped>\n",
       "    .dataframe tbody tr th:only-of-type {\n",
       "        vertical-align: middle;\n",
       "    }\n",
       "\n",
       "    .dataframe tbody tr th {\n",
       "        vertical-align: top;\n",
       "    }\n",
       "\n",
       "    .dataframe thead th {\n",
       "        text-align: right;\n",
       "    }\n",
       "</style>\n",
       "<table border=\"1\" class=\"dataframe\">\n",
       "  <thead>\n",
       "    <tr style=\"text-align: right;\">\n",
       "      <th></th>\n",
       "      <th>movieId</th>\n",
       "      <th>title</th>\n",
       "      <th>genres</th>\n",
       "      <th>userId</th>\n",
       "      <th>rating</th>\n",
       "      <th>timestamp</th>\n",
       "    </tr>\n",
       "  </thead>\n",
       "  <tbody>\n",
       "    <tr>\n",
       "      <th>0</th>\n",
       "      <td>1</td>\n",
       "      <td>Toy Story (1995)</td>\n",
       "      <td>Adventure|Animation|Children|Comedy|Fantasy</td>\n",
       "      <td>1</td>\n",
       "      <td>4.0</td>\n",
       "      <td>964982703</td>\n",
       "    </tr>\n",
       "    <tr>\n",
       "      <th>1</th>\n",
       "      <td>1</td>\n",
       "      <td>Toy Story (1995)</td>\n",
       "      <td>Adventure|Animation|Children|Comedy|Fantasy</td>\n",
       "      <td>5</td>\n",
       "      <td>4.0</td>\n",
       "      <td>847434962</td>\n",
       "    </tr>\n",
       "    <tr>\n",
       "      <th>2</th>\n",
       "      <td>1</td>\n",
       "      <td>Toy Story (1995)</td>\n",
       "      <td>Adventure|Animation|Children|Comedy|Fantasy</td>\n",
       "      <td>7</td>\n",
       "      <td>4.5</td>\n",
       "      <td>1106635946</td>\n",
       "    </tr>\n",
       "    <tr>\n",
       "      <th>3</th>\n",
       "      <td>1</td>\n",
       "      <td>Toy Story (1995)</td>\n",
       "      <td>Adventure|Animation|Children|Comedy|Fantasy</td>\n",
       "      <td>15</td>\n",
       "      <td>2.5</td>\n",
       "      <td>1510577970</td>\n",
       "    </tr>\n",
       "    <tr>\n",
       "      <th>4</th>\n",
       "      <td>1</td>\n",
       "      <td>Toy Story (1995)</td>\n",
       "      <td>Adventure|Animation|Children|Comedy|Fantasy</td>\n",
       "      <td>17</td>\n",
       "      <td>4.5</td>\n",
       "      <td>1305696483</td>\n",
       "    </tr>\n",
       "    <tr>\n",
       "      <th>...</th>\n",
       "      <td>...</td>\n",
       "      <td>...</td>\n",
       "      <td>...</td>\n",
       "      <td>...</td>\n",
       "      <td>...</td>\n",
       "      <td>...</td>\n",
       "    </tr>\n",
       "    <tr>\n",
       "      <th>100831</th>\n",
       "      <td>193581</td>\n",
       "      <td>Black Butler: Book of the Atlantic (2017)</td>\n",
       "      <td>Action|Animation|Comedy|Fantasy</td>\n",
       "      <td>184</td>\n",
       "      <td>4.0</td>\n",
       "      <td>1537109082</td>\n",
       "    </tr>\n",
       "    <tr>\n",
       "      <th>100832</th>\n",
       "      <td>193583</td>\n",
       "      <td>No Game No Life: Zero (2017)</td>\n",
       "      <td>Animation|Comedy|Fantasy</td>\n",
       "      <td>184</td>\n",
       "      <td>3.5</td>\n",
       "      <td>1537109545</td>\n",
       "    </tr>\n",
       "    <tr>\n",
       "      <th>100833</th>\n",
       "      <td>193585</td>\n",
       "      <td>Flint (2017)</td>\n",
       "      <td>Drama</td>\n",
       "      <td>184</td>\n",
       "      <td>3.5</td>\n",
       "      <td>1537109805</td>\n",
       "    </tr>\n",
       "    <tr>\n",
       "      <th>100834</th>\n",
       "      <td>193587</td>\n",
       "      <td>Bungo Stray Dogs: Dead Apple (2018)</td>\n",
       "      <td>Action|Animation</td>\n",
       "      <td>184</td>\n",
       "      <td>3.5</td>\n",
       "      <td>1537110021</td>\n",
       "    </tr>\n",
       "    <tr>\n",
       "      <th>100835</th>\n",
       "      <td>193609</td>\n",
       "      <td>Andrew Dice Clay: Dice Rules (1991)</td>\n",
       "      <td>Comedy</td>\n",
       "      <td>331</td>\n",
       "      <td>4.0</td>\n",
       "      <td>1537157606</td>\n",
       "    </tr>\n",
       "  </tbody>\n",
       "</table>\n",
       "<p>100836 rows × 6 columns</p>\n",
       "</div>"
      ],
      "text/plain": [
       "        movieId                                      title  \\\n",
       "0             1                           Toy Story (1995)   \n",
       "1             1                           Toy Story (1995)   \n",
       "2             1                           Toy Story (1995)   \n",
       "3             1                           Toy Story (1995)   \n",
       "4             1                           Toy Story (1995)   \n",
       "...         ...                                        ...   \n",
       "100831   193581  Black Butler: Book of the Atlantic (2017)   \n",
       "100832   193583               No Game No Life: Zero (2017)   \n",
       "100833   193585                               Flint (2017)   \n",
       "100834   193587        Bungo Stray Dogs: Dead Apple (2018)   \n",
       "100835   193609        Andrew Dice Clay: Dice Rules (1991)   \n",
       "\n",
       "                                             genres  userId  rating  \\\n",
       "0       Adventure|Animation|Children|Comedy|Fantasy       1     4.0   \n",
       "1       Adventure|Animation|Children|Comedy|Fantasy       5     4.0   \n",
       "2       Adventure|Animation|Children|Comedy|Fantasy       7     4.5   \n",
       "3       Adventure|Animation|Children|Comedy|Fantasy      15     2.5   \n",
       "4       Adventure|Animation|Children|Comedy|Fantasy      17     4.5   \n",
       "...                                             ...     ...     ...   \n",
       "100831              Action|Animation|Comedy|Fantasy     184     4.0   \n",
       "100832                     Animation|Comedy|Fantasy     184     3.5   \n",
       "100833                                        Drama     184     3.5   \n",
       "100834                             Action|Animation     184     3.5   \n",
       "100835                                       Comedy     331     4.0   \n",
       "\n",
       "         timestamp  \n",
       "0        964982703  \n",
       "1        847434962  \n",
       "2       1106635946  \n",
       "3       1510577970  \n",
       "4       1305696483  \n",
       "...            ...  \n",
       "100831  1537109082  \n",
       "100832  1537109545  \n",
       "100833  1537109805  \n",
       "100834  1537110021  \n",
       "100835  1537157606  \n",
       "\n",
       "[100836 rows x 6 columns]"
      ]
     },
     "execution_count": 753,
     "metadata": {},
     "output_type": "execute_result"
    }
   ],
   "source": [
    "merged = pd.merge (movies, ratings,  on='movieId', how='inner')\n",
    "merged"
   ]
  },
  {
   "cell_type": "code",
   "execution_count": 754,
>>>>>>> 1110fa12df991d4b4f184d845c17215057ad04fb
   "metadata": {},
   "outputs": [
    {
     "name": "stdout",
     "output_type": "stream",
     "text": [
      "Requirement already satisfied: scikit-surprise in c:\\users\\joshu\\anaconda3\\lib\\site-packages (1.1.3)Note: you may need to restart the kernel to use updated packages.\n",
      "\n",
      "Requirement already satisfied: joblib>=1.0.0 in c:\\users\\joshu\\anaconda3\\lib\\site-packages (from scikit-surprise) (1.2.0)\n",
      "Requirement already satisfied: numpy>=1.17.3 in c:\\users\\joshu\\anaconda3\\lib\\site-packages (from scikit-surprise) (1.24.3)\n",
      "Requirement already satisfied: scipy>=1.3.2 in c:\\users\\joshu\\anaconda3\\lib\\site-packages (from scikit-surprise) (1.10.1)\n"
     ]
    }
   ],
   "source": [
    "pip install scikit-surprise"
   ]
  },
  {
   "cell_type": "code",
<<<<<<< HEAD
   "execution_count": 202,
=======
   "execution_count": 755,
>>>>>>> 1110fa12df991d4b4f184d845c17215057ad04fb
   "metadata": {},
   "outputs": [
    {
     "data": {
      "text/html": [
       "<div>\n",
       "<style scoped>\n",
       "    .dataframe tbody tr th:only-of-type {\n",
       "        vertical-align: middle;\n",
       "    }\n",
       "\n",
       "    .dataframe tbody tr th {\n",
       "        vertical-align: top;\n",
       "    }\n",
       "\n",
       "    .dataframe thead th {\n",
       "        text-align: right;\n",
       "    }\n",
       "</style>\n",
       "<table border=\"1\" class=\"dataframe\">\n",
       "  <thead>\n",
       "    <tr style=\"text-align: right;\">\n",
       "      <th></th>\n",
       "      <th>title</th>\n",
       "      <th>rating</th>\n",
       "      <th>userId</th>\n",
       "      <th>movieId</th>\n",
       "    </tr>\n",
       "  </thead>\n",
       "  <tbody>\n",
       "    <tr>\n",
       "      <th>0</th>\n",
       "      <td>Toy Story (1995)</td>\n",
       "      <td>4.0</td>\n",
       "      <td>1</td>\n",
       "      <td>1</td>\n",
       "    </tr>\n",
       "    <tr>\n",
       "      <th>1</th>\n",
       "      <td>Toy Story (1995)</td>\n",
       "      <td>4.0</td>\n",
       "      <td>5</td>\n",
       "      <td>1</td>\n",
       "    </tr>\n",
       "    <tr>\n",
       "      <th>2</th>\n",
       "      <td>Toy Story (1995)</td>\n",
       "      <td>4.5</td>\n",
       "      <td>7</td>\n",
       "      <td>1</td>\n",
       "    </tr>\n",
       "    <tr>\n",
       "      <th>3</th>\n",
       "      <td>Toy Story (1995)</td>\n",
       "      <td>2.5</td>\n",
       "      <td>15</td>\n",
       "      <td>1</td>\n",
       "    </tr>\n",
       "    <tr>\n",
       "      <th>4</th>\n",
       "      <td>Toy Story (1995)</td>\n",
       "      <td>4.5</td>\n",
       "      <td>17</td>\n",
       "      <td>1</td>\n",
       "    </tr>\n",
       "    <tr>\n",
       "      <th>...</th>\n",
       "      <td>...</td>\n",
       "      <td>...</td>\n",
       "      <td>...</td>\n",
       "      <td>...</td>\n",
       "    </tr>\n",
       "    <tr>\n",
       "      <th>100831</th>\n",
       "      <td>Black Butler: Book of the Atlantic (2017)</td>\n",
       "      <td>4.0</td>\n",
       "      <td>184</td>\n",
       "      <td>193581</td>\n",
       "    </tr>\n",
       "    <tr>\n",
       "      <th>100832</th>\n",
       "      <td>No Game No Life: Zero (2017)</td>\n",
       "      <td>3.5</td>\n",
       "      <td>184</td>\n",
       "      <td>193583</td>\n",
       "    </tr>\n",
       "    <tr>\n",
       "      <th>100833</th>\n",
       "      <td>Flint (2017)</td>\n",
       "      <td>3.5</td>\n",
       "      <td>184</td>\n",
       "      <td>193585</td>\n",
       "    </tr>\n",
       "    <tr>\n",
       "      <th>100834</th>\n",
       "      <td>Bungo Stray Dogs: Dead Apple (2018)</td>\n",
       "      <td>3.5</td>\n",
       "      <td>184</td>\n",
       "      <td>193587</td>\n",
       "    </tr>\n",
       "    <tr>\n",
       "      <th>100835</th>\n",
       "      <td>Andrew Dice Clay: Dice Rules (1991)</td>\n",
       "      <td>4.0</td>\n",
       "      <td>331</td>\n",
       "      <td>193609</td>\n",
       "    </tr>\n",
       "  </tbody>\n",
       "</table>\n",
       "<p>100836 rows × 4 columns</p>\n",
       "</div>"
      ],
      "text/plain": [
       "                                            title  rating  userId  movieId\n",
       "0                                Toy Story (1995)     4.0       1        1\n",
       "1                                Toy Story (1995)     4.0       5        1\n",
       "2                                Toy Story (1995)     4.5       7        1\n",
       "3                                Toy Story (1995)     2.5      15        1\n",
       "4                                Toy Story (1995)     4.5      17        1\n",
       "...                                           ...     ...     ...      ...\n",
       "100831  Black Butler: Book of the Atlantic (2017)     4.0     184   193581\n",
       "100832               No Game No Life: Zero (2017)     3.5     184   193583\n",
       "100833                               Flint (2017)     3.5     184   193585\n",
       "100834        Bungo Stray Dogs: Dead Apple (2018)     3.5     184   193587\n",
       "100835        Andrew Dice Clay: Dice Rules (1991)     4.0     331   193609\n",
       "\n",
       "[100836 rows x 4 columns]"
      ]
     },
<<<<<<< HEAD
     "execution_count": 202,
=======
     "execution_count": 755,
>>>>>>> 1110fa12df991d4b4f184d845c17215057ad04fb
     "metadata": {},
     "output_type": "execute_result"
    }
   ],
   "source": [
    "merged = merged[['title', 'rating','userId','movieId']]\n",
    "\n",
    "merged"
   ]
  },
  {
<<<<<<< HEAD
   "cell_type": "markdown",
   "metadata": {},
   "source": [
    "# Model 1 Hybrid Model"
   ]
  },
  {
   "cell_type": "code",
   "execution_count": 164,
=======
   "cell_type": "code",
   "execution_count": 756,
>>>>>>> 1110fa12df991d4b4f184d845c17215057ad04fb
   "metadata": {},
   "outputs": [],
   "source": [
    "user_item_matrix = merged.pivot_table(index='userId', columns='title', values='rating')\n"
   ]
  },
  {
   "cell_type": "code",
<<<<<<< HEAD
   "execution_count": 165,
=======
   "execution_count": 757,
>>>>>>> 1110fa12df991d4b4f184d845c17215057ad04fb
   "metadata": {},
   "outputs": [],
   "source": [
    "from sklearn.metrics.pairwise import cosine_similarity\n",
    "\n",
    "user_similarity = cosine_similarity(user_item_matrix.fillna(0))\n"
   ]
  },
  {
   "cell_type": "code",
<<<<<<< HEAD
   "execution_count": 166,
=======
   "execution_count": 764,
>>>>>>> 1110fa12df991d4b4f184d845c17215057ad04fb
   "metadata": {},
   "outputs": [
    {
     "name": "stdout",
     "output_type": "stream",
     "text": [
      "Top 9 Recommendations for User 12:\n",
      "Forrest Gump (1994): 48.54416293476157\n",
      "Shawshank Redemption, The (1994): 41.060918204882384\n",
      "Pulp Fiction (1994): 39.98508639896118\n",
      "Silence of the Lambs, The (1991): 36.70239852562821\n",
      "Star Wars: Episode IV - A New Hope (1977): 33.31088259352704\n",
      "Matrix, The (1999): 33.005667649923744\n",
      "Jurassic Park (1993): 32.18766871613846\n",
      "Braveheart (1995): 31.967403631536516\n",
      "Schindler's List (1993): 31.62871567204088\n"
     ]
    }
   ],
   "source": [
    "import numpy as np\n",
    "\n",
    "target_user_id = 12# Change this to the ID of the target user\n",
    "target_user_ratings = user_item_matrix.loc[target_user_id].fillna(0)  # Ratings of the target user\n",
    "\n",
    "# Calculate the weighted average ratings from similar users\n",
    "weighted_avg_ratings = user_similarity[target_user_id - 1].dot(user_item_matrix.fillna(0))\n",
    "\n",
    "# Exclude items the target user has already rated\n",
    "recommended_items = [(user_item_matrix.columns[i], rating) for i, rating in enumerate(weighted_avg_ratings) if target_user_ratings.iloc[i] == 0]\n",
    "\n",
    "# Sort the recommended items by rating in descending order\n",
    "recommended_items.sort(key=lambda x: x[1], reverse=True)\n",
    "\n",
    "# Get the top N recommendations\n",
    "top_N = 9  # Change this to the number of recommendations you want\n",
    "top_N_recommendations = recommended_items[:top_N]\n",
    "\n",
<<<<<<< HEAD
=======
    "print(f\"Top {top_N} Recommendations for User {target_user_id}:\")\n",
    "for title, rating in top_N_recommendations:\n",
    "    print(f\"{title}: {rating}\")\n"
   ]
  },
  {
   "cell_type": "code",
   "execution_count": 759,
   "metadata": {},
   "outputs": [
    {
     "name": "stdout",
     "output_type": "stream",
     "text": [
      "Top 15 Recommendations for User 99:\n",
      "Silence of the Lambs, The (1991): 202.9124187389217\n",
      "Lord of the Rings: The Return of the King, The (2003): 176.19032528255946\n",
      "Braveheart (1995): 167.8671834792349\n",
      "Usual Suspects, The (1995): 158.5295521828598\n",
      "Jurassic Park (1993): 153.8037127548929\n",
      "Fargo (1996): 130.20001000787641\n",
      "Pirates of the Caribbean: The Curse of the Black Pearl (2003): 124.8153629308171\n",
      "Indiana Jones and the Last Crusade (1989): 124.60820670038004\n",
      "Apollo 13 (1995): 123.71462110149177\n",
      "Good Will Hunting (1997): 120.56979904371497\n",
      "Twelve Monkeys (a.k.a. 12 Monkeys) (1995): 118.63032439185008\n"
     ]
    }
   ],
   "source": [
    "# Change the target user ID\n",
    "target_user_id = 99  # Change this to the ID of the target user you want recommendations for\n",
    "\n",
    "# Change the number of top recommendations\n",
    "top_N = 15 # Change this to the number of recommendations you want to display\n",
    "print(f\"Top {top_N} Recommendations for User {target_user_id}:\")\n",
    "for title, rating in top_N_recommendations:\n",
    "    print(f\"{title}: {rating}\")"
   ]
  },
  {
   "cell_type": "code",
   "execution_count": 760,
   "metadata": {},
   "outputs": [
    {
     "name": "stdout",
     "output_type": "stream",
     "text": [
      "Top 15 Recommendations for User 99:\n",
      "Silence of the Lambs, The (1991): 202.9124187389217\n",
      "Lord of the Rings: The Return of the King, The (2003): 176.19032528255946\n",
      "Braveheart (1995): 167.8671834792349\n",
      "Usual Suspects, The (1995): 158.5295521828598\n",
      "Jurassic Park (1993): 153.8037127548929\n",
      "Fargo (1996): 130.20001000787641\n",
      "Pirates of the Caribbean: The Curse of the Black Pearl (2003): 124.8153629308171\n",
      "Indiana Jones and the Last Crusade (1989): 124.60820670038004\n",
      "Apollo 13 (1995): 123.71462110149177\n",
      "Good Will Hunting (1997): 120.56979904371497\n",
      "Twelve Monkeys (a.k.a. 12 Monkeys) (1995): 118.63032439185008\n"
     ]
    }
   ],
   "source": [
    "# Assuming you have already adjusted the target_user_id and top_N variables as needed\n",
>>>>>>> 1110fa12df991d4b4f184d845c17215057ad04fb
    "\n",
    "print(f\"Top {top_N} Recommendations for User {target_user_id}:\")\n",
    "for title, rating in top_N_recommendations:\n",
    "    print(f\"{title}: {rating}\")\n"
   ]
  },
  {
<<<<<<< HEAD
   "cell_type": "markdown",
   "metadata": {},
   "source": [
    "# Modell 2 KNN"
   ]
  },
  {
   "cell_type": "code",
   "execution_count": 167,
=======
   "cell_type": "code",
   "execution_count": 761,
>>>>>>> 1110fa12df991d4b4f184d845c17215057ad04fb
   "metadata": {},
   "outputs": [
    {
     "name": "stdout",
     "output_type": "stream",
     "text": [
      "Computing the msd similarity matrix...\n",
      "Done computing similarity matrix.\n",
      "Top 5 Movie Recommendations for User 1:\n",
      "Cry, the Beloved Country (1995) (Estimated Rating: 5.00)\n",
      "Lamerica (1994) (Estimated Rating: 5.00)\n",
      "Awfully Big Adventure, An (1995) (Estimated Rating: 5.00)\n",
      "Colonel Chabert, Le (1994) (Estimated Rating: 5.00)\n",
      "Live Nude Girls (1995) (Estimated Rating: 5.00)\n"
     ]
    }
   ],
   "source": [
    "import pandas as pd\n",
    "from surprise import Dataset, Reader, KNNBasic\n",
    "from surprise.model_selection import train_test_split\n",
    "\n",
    "# Load your movie ratings dataset\n",
    "# The DataFrame should have columns: 'userId', 'movieId', 'rating'\n",
    "reader = Reader(rating_scale=(0.5, 5.0))\n",
    "data = Dataset.load_from_df(merged[['userId', 'movieId', 'rating']], reader)\n",
    "\n",
    "# Split the dataset into training and testing sets\n",
    "trainset, testset = train_test_split(data, test_size=0.2, random_state=42)\n",
    "\n",
    "# Choose a collaborative filtering algorithm (KNNBasic) and train it on the training set\n",
    "model = KNNBasic(sim_options={'user_based': True})\n",
    "model.fit(trainset)\n",
    "\n",
    "# Replace 'user_id' with the ID of the user for whom you want to make recommendations\n",
    "user_id = 1\n",
    "\n",
    "# Get a list of all movie IDs\n",
    "all_movie_ids = merged['movieId'].unique()\n",
    "\n",
    "# Remove movies that the user has already rated\n",
    "movies_rated_by_user = merged[merged['userId'] == user_id]['movieId'].values\n",
    "movies_to_predict = [movie_id for movie_id in all_movie_ids if movie_id not in movies_rated_by_user]\n",
    "\n",
    "# Predict ratings for movies the user has not rated\n",
    "predictions = [model.predict(user_id, movie_id) for movie_id in movies_to_predict]\n",
    "\n",
    "# Sort the predictions by estimated rating in descending order\n",
    "predictions.sort(key=lambda x: x.est, reverse=True)\n",
    "\n",
    "# Get the top 5 movie recommendations\n",
    "top_5_recommendations = predictions[:5]\n",
    "\n",
    "# Display the top 5 movie recommendations for the user\n",
    "print(f\"Top 5 Movie Recommendations for User {user_id}:\")\n",
    "for prediction in top_5_recommendations:\n",
    "    movie_title = merged[merged['movieId'] == prediction.iid]['title'].values[0]\n",
    "    estimated_rating = prediction.est\n",
    "    print(f\"{movie_title} (Estimated Rating: {estimated_rating:.2f})\")\n"
   ]
  },
  {
   "cell_type": "code",
<<<<<<< HEAD
   "execution_count": 168,
=======
   "execution_count": 762,
>>>>>>> 1110fa12df991d4b4f184d845c17215057ad04fb
   "metadata": {},
   "outputs": [
    {
     "name": "stdout",
     "output_type": "stream",
     "text": [
      "RMSE: 0.9414\n",
      "MAE:  0.7193\n",
      "RMSE: 0.94\n",
      "MAE: 0.72\n"
     ]
    }
   ],
   "source": [
    "from surprise import accuracy\n",
    "\n",
    "# Calculate RMSE (Root Mean Squared Error) and MAE (Mean Absolute Error) on the test set\n",
    "predictions = model.test(testset)\n",
    "\n",
    "rmse = accuracy.rmse(predictions)\n",
    "mae = accuracy.mae(predictions)\n",
    "\n",
    "print(f\"RMSE: {rmse:.2f}\")\n",
    "print(f\"MAE: {mae:.2f}\")\n"
   ]
  },
  {
   "cell_type": "code",
<<<<<<< HEAD
   "execution_count": 169,
=======
   "execution_count": 763,
   "metadata": {},
   "outputs": [
    {
     "name": "stderr",
     "output_type": "stream",
     "text": [
      "[Parallel(n_jobs=-1)]: Using backend LokyBackend with 12 concurrent workers.\n"
     ]
    },
    {
     "ename": "TypeError",
     "evalue": "'SVD' object is not callable",
     "output_type": "error",
     "traceback": [
      "\u001b[1;31m---------------------------------------------------------------------------\u001b[0m",
      "\u001b[1;31mEmpty\u001b[0m                                     Traceback (most recent call last)",
      "File \u001b[1;32mc:\\Users\\joshu\\anaconda3\\Lib\\site-packages\\joblib\\parallel.py:862\u001b[0m, in \u001b[0;36mParallel.dispatch_one_batch\u001b[1;34m(self, iterator)\u001b[0m\n\u001b[0;32m    861\u001b[0m \u001b[39mtry\u001b[39;00m:\n\u001b[1;32m--> 862\u001b[0m     tasks \u001b[39m=\u001b[39m \u001b[39mself\u001b[39m\u001b[39m.\u001b[39m_ready_batches\u001b[39m.\u001b[39mget(block\u001b[39m=\u001b[39m\u001b[39mFalse\u001b[39;00m)\n\u001b[0;32m    863\u001b[0m \u001b[39mexcept\u001b[39;00m queue\u001b[39m.\u001b[39mEmpty:\n\u001b[0;32m    864\u001b[0m     \u001b[39m# slice the iterator n_jobs * batchsize items at a time. If the\u001b[39;00m\n\u001b[0;32m    865\u001b[0m     \u001b[39m# slice returns less than that, then the current batchsize puts\u001b[39;00m\n\u001b[1;32m   (...)\u001b[0m\n\u001b[0;32m    868\u001b[0m     \u001b[39m# accordingly to distribute evenly the last items between all\u001b[39;00m\n\u001b[0;32m    869\u001b[0m     \u001b[39m# workers.\u001b[39;00m\n",
      "File \u001b[1;32mc:\\Users\\joshu\\anaconda3\\Lib\\queue.py:168\u001b[0m, in \u001b[0;36mQueue.get\u001b[1;34m(self, block, timeout)\u001b[0m\n\u001b[0;32m    167\u001b[0m     \u001b[39mif\u001b[39;00m \u001b[39mnot\u001b[39;00m \u001b[39mself\u001b[39m\u001b[39m.\u001b[39m_qsize():\n\u001b[1;32m--> 168\u001b[0m         \u001b[39mraise\u001b[39;00m Empty\n\u001b[0;32m    169\u001b[0m \u001b[39melif\u001b[39;00m timeout \u001b[39mis\u001b[39;00m \u001b[39mNone\u001b[39;00m:\n",
      "\u001b[1;31mEmpty\u001b[0m: ",
      "\nDuring handling of the above exception, another exception occurred:\n",
      "\u001b[1;31mTypeError\u001b[0m                                 Traceback (most recent call last)",
      "\u001b[1;32mc:\\Users\\joshu\\OneDrive\\Desktop\\Movies Data Set\\ml-latest-small\\2index.ipynb Cell 35\u001b[0m line \u001b[0;36m1\n\u001b[0;32m     <a href='vscode-notebook-cell:/c%3A/Users/joshu/OneDrive/Desktop/Movies%20Data%20Set/ml-latest-small/2index.ipynb#Y160sZmlsZQ%3D%3D?line=15'>16</a>\u001b[0m grid_search \u001b[39m=\u001b[39m GridSearchCV(svd, param_grid, measures\u001b[39m=\u001b[39m[\u001b[39m'\u001b[39m\u001b[39mRMSE\u001b[39m\u001b[39m'\u001b[39m], cv\u001b[39m=\u001b[39m\u001b[39m3\u001b[39m, n_jobs\u001b[39m=\u001b[39m\u001b[39m-\u001b[39m\u001b[39m1\u001b[39m, joblib_verbose\u001b[39m=\u001b[39m\u001b[39m1\u001b[39m)\n\u001b[0;32m     <a href='vscode-notebook-cell:/c%3A/Users/joshu/OneDrive/Desktop/Movies%20Data%20Set/ml-latest-small/2index.ipynb#Y160sZmlsZQ%3D%3D?line=17'>18</a>\u001b[0m \u001b[39m# Fit the grid search on the data (this might take some time)\u001b[39;00m\n\u001b[1;32m---> <a href='vscode-notebook-cell:/c%3A/Users/joshu/OneDrive/Desktop/Movies%20Data%20Set/ml-latest-small/2index.ipynb#Y160sZmlsZQ%3D%3D?line=18'>19</a>\u001b[0m grid_search\u001b[39m.\u001b[39mfit(data)\n\u001b[0;32m     <a href='vscode-notebook-cell:/c%3A/Users/joshu/OneDrive/Desktop/Movies%20Data%20Set/ml-latest-small/2index.ipynb#Y160sZmlsZQ%3D%3D?line=20'>21</a>\u001b[0m \u001b[39m# Get the best parameters and the corresponding RMSE score\u001b[39;00m\n\u001b[0;32m     <a href='vscode-notebook-cell:/c%3A/Users/joshu/OneDrive/Desktop/Movies%20Data%20Set/ml-latest-small/2index.ipynb#Y160sZmlsZQ%3D%3D?line=21'>22</a>\u001b[0m best_params \u001b[39m=\u001b[39m grid_search\u001b[39m.\u001b[39mbest_params[\u001b[39m'\u001b[39m\u001b[39mrmse\u001b[39m\u001b[39m'\u001b[39m]\n",
      "File \u001b[1;32mc:\\Users\\joshu\\anaconda3\\Lib\\site-packages\\surprise\\model_selection\\search.py:104\u001b[0m, in \u001b[0;36mBaseSearchCV.fit\u001b[1;34m(self, data)\u001b[0m\n\u001b[0;32m     90\u001b[0m cv \u001b[39m=\u001b[39m get_cv(\u001b[39mself\u001b[39m\u001b[39m.\u001b[39mcv)\n\u001b[0;32m     92\u001b[0m delayed_list \u001b[39m=\u001b[39m (\n\u001b[0;32m     93\u001b[0m     delayed(fit_and_score)(\n\u001b[0;32m     94\u001b[0m         \u001b[39mself\u001b[39m\u001b[39m.\u001b[39malgo_class(\u001b[39m*\u001b[39m\u001b[39m*\u001b[39mparams),\n\u001b[1;32m   (...)\u001b[0m\n\u001b[0;32m    102\u001b[0m     )\n\u001b[0;32m    103\u001b[0m )\n\u001b[1;32m--> 104\u001b[0m out \u001b[39m=\u001b[39m Parallel(\n\u001b[0;32m    105\u001b[0m     n_jobs\u001b[39m=\u001b[39m\u001b[39mself\u001b[39m\u001b[39m.\u001b[39mn_jobs,\n\u001b[0;32m    106\u001b[0m     pre_dispatch\u001b[39m=\u001b[39m\u001b[39mself\u001b[39m\u001b[39m.\u001b[39mpre_dispatch,\n\u001b[0;32m    107\u001b[0m     verbose\u001b[39m=\u001b[39m\u001b[39mself\u001b[39m\u001b[39m.\u001b[39mjoblib_verbose,\n\u001b[0;32m    108\u001b[0m )(delayed_list)\n\u001b[0;32m    110\u001b[0m (test_measures_dicts, train_measures_dicts, fit_times, test_times) \u001b[39m=\u001b[39m \u001b[39mzip\u001b[39m(\u001b[39m*\u001b[39mout)\n\u001b[0;32m    112\u001b[0m \u001b[39m# test_measures_dicts is a list of dict like this:\u001b[39;00m\n\u001b[0;32m    113\u001b[0m \u001b[39m# [{'mae': 1, 'rmse': 2}, {'mae': 2, 'rmse': 3} ...]\u001b[39;00m\n\u001b[0;32m    114\u001b[0m \u001b[39m# E.g. for 5 splits, the first 5 dicts are for the first param\u001b[39;00m\n\u001b[1;32m   (...)\u001b[0m\n\u001b[0;32m    121\u001b[0m \u001b[39m# (n_parameters_combinations, n_splits). This way we can easily compute\u001b[39;00m\n\u001b[0;32m    122\u001b[0m \u001b[39m# the mean and std dev over all splits or over all param comb.\u001b[39;00m\n",
      "File \u001b[1;32mc:\\Users\\joshu\\anaconda3\\Lib\\site-packages\\joblib\\parallel.py:1085\u001b[0m, in \u001b[0;36mParallel.__call__\u001b[1;34m(self, iterable)\u001b[0m\n\u001b[0;32m   1076\u001b[0m \u001b[39mtry\u001b[39;00m:\n\u001b[0;32m   1077\u001b[0m     \u001b[39m# Only set self._iterating to True if at least a batch\u001b[39;00m\n\u001b[0;32m   1078\u001b[0m     \u001b[39m# was dispatched. In particular this covers the edge\u001b[39;00m\n\u001b[1;32m   (...)\u001b[0m\n\u001b[0;32m   1082\u001b[0m     \u001b[39m# was very quick and its callback already dispatched all the\u001b[39;00m\n\u001b[0;32m   1083\u001b[0m     \u001b[39m# remaining jobs.\u001b[39;00m\n\u001b[0;32m   1084\u001b[0m     \u001b[39mself\u001b[39m\u001b[39m.\u001b[39m_iterating \u001b[39m=\u001b[39m \u001b[39mFalse\u001b[39;00m\n\u001b[1;32m-> 1085\u001b[0m     \u001b[39mif\u001b[39;00m \u001b[39mself\u001b[39m\u001b[39m.\u001b[39mdispatch_one_batch(iterator):\n\u001b[0;32m   1086\u001b[0m         \u001b[39mself\u001b[39m\u001b[39m.\u001b[39m_iterating \u001b[39m=\u001b[39m \u001b[39mself\u001b[39m\u001b[39m.\u001b[39m_original_iterator \u001b[39mis\u001b[39;00m \u001b[39mnot\u001b[39;00m \u001b[39mNone\u001b[39;00m\n\u001b[0;32m   1088\u001b[0m     \u001b[39mwhile\u001b[39;00m \u001b[39mself\u001b[39m\u001b[39m.\u001b[39mdispatch_one_batch(iterator):\n",
      "File \u001b[1;32mc:\\Users\\joshu\\anaconda3\\Lib\\site-packages\\joblib\\parallel.py:873\u001b[0m, in \u001b[0;36mParallel.dispatch_one_batch\u001b[1;34m(self, iterator)\u001b[0m\n\u001b[0;32m    870\u001b[0m n_jobs \u001b[39m=\u001b[39m \u001b[39mself\u001b[39m\u001b[39m.\u001b[39m_cached_effective_n_jobs\n\u001b[0;32m    871\u001b[0m big_batch_size \u001b[39m=\u001b[39m batch_size \u001b[39m*\u001b[39m n_jobs\n\u001b[1;32m--> 873\u001b[0m islice \u001b[39m=\u001b[39m \u001b[39mlist\u001b[39m(itertools\u001b[39m.\u001b[39mislice(iterator, big_batch_size))\n\u001b[0;32m    874\u001b[0m \u001b[39mif\u001b[39;00m \u001b[39mlen\u001b[39m(islice) \u001b[39m==\u001b[39m \u001b[39m0\u001b[39m:\n\u001b[0;32m    875\u001b[0m     \u001b[39mreturn\u001b[39;00m \u001b[39mFalse\u001b[39;00m\n",
      "File \u001b[1;32mc:\\Users\\joshu\\anaconda3\\Lib\\site-packages\\surprise\\model_selection\\search.py:94\u001b[0m, in \u001b[0;36m<genexpr>\u001b[1;34m(.0)\u001b[0m\n\u001b[0;32m     85\u001b[0m     \u001b[39mraise\u001b[39;00m \u001b[39mValueError\u001b[39;00m(\n\u001b[0;32m     86\u001b[0m         \u001b[39m\"\u001b[39m\u001b[39mrefit cannot be used when data has been \u001b[39m\u001b[39m\"\u001b[39m\n\u001b[0;32m     87\u001b[0m         \u001b[39m\"\u001b[39m\u001b[39mloaded with load_from_folds().\u001b[39m\u001b[39m\"\u001b[39m\n\u001b[0;32m     88\u001b[0m     )\n\u001b[0;32m     90\u001b[0m cv \u001b[39m=\u001b[39m get_cv(\u001b[39mself\u001b[39m\u001b[39m.\u001b[39mcv)\n\u001b[0;32m     92\u001b[0m delayed_list \u001b[39m=\u001b[39m (\n\u001b[0;32m     93\u001b[0m     delayed(fit_and_score)(\n\u001b[1;32m---> 94\u001b[0m         \u001b[39mself\u001b[39m\u001b[39m.\u001b[39malgo_class(\u001b[39m*\u001b[39m\u001b[39m*\u001b[39mparams),\n\u001b[0;32m     95\u001b[0m         trainset,\n\u001b[0;32m     96\u001b[0m         testset,\n\u001b[0;32m     97\u001b[0m         \u001b[39mself\u001b[39m\u001b[39m.\u001b[39mmeasures,\n\u001b[0;32m     98\u001b[0m         \u001b[39mself\u001b[39m\u001b[39m.\u001b[39mreturn_train_measures,\n\u001b[0;32m     99\u001b[0m     )\n\u001b[0;32m    100\u001b[0m     \u001b[39mfor\u001b[39;00m params, (trainset, testset) \u001b[39min\u001b[39;00m product(\n\u001b[0;32m    101\u001b[0m         \u001b[39mself\u001b[39m\u001b[39m.\u001b[39mparam_combinations, cv\u001b[39m.\u001b[39msplit(data)\n\u001b[0;32m    102\u001b[0m     )\n\u001b[0;32m    103\u001b[0m )\n\u001b[0;32m    104\u001b[0m out \u001b[39m=\u001b[39m Parallel(\n\u001b[0;32m    105\u001b[0m     n_jobs\u001b[39m=\u001b[39m\u001b[39mself\u001b[39m\u001b[39m.\u001b[39mn_jobs,\n\u001b[0;32m    106\u001b[0m     pre_dispatch\u001b[39m=\u001b[39m\u001b[39mself\u001b[39m\u001b[39m.\u001b[39mpre_dispatch,\n\u001b[0;32m    107\u001b[0m     verbose\u001b[39m=\u001b[39m\u001b[39mself\u001b[39m\u001b[39m.\u001b[39mjoblib_verbose,\n\u001b[0;32m    108\u001b[0m )(delayed_list)\n\u001b[0;32m    110\u001b[0m (test_measures_dicts, train_measures_dicts, fit_times, test_times) \u001b[39m=\u001b[39m \u001b[39mzip\u001b[39m(\u001b[39m*\u001b[39mout)\n",
      "\u001b[1;31mTypeError\u001b[0m: 'SVD' object is not callable"
     ]
    }
   ],
   "source": [
    "from surprise import SVD\n",
    "from surprise.model_selection import GridSearchCV\n",
    "\n",
    "# Define the parameter grid for tuning\n",
    "param_grid = {\n",
    "    'n_factors': [50, 100, 150],  # Number of factors\n",
    "    'n_epochs': [10, 20, 30],    # Number of epochs\n",
    "    'lr_all': [0.002, 0.005, 0.01],  # Learning rate for all parameters\n",
    "    'reg_all': [0.02, 0.04, 0.1]    # Regularization term for all parameters\n",
    "}\n",
    "\n",
    "# Create an SVD model\n",
    "svd = SVD()\n",
    "\n",
    "# Perform grid search with cross-validation\n",
    "grid_search = GridSearchCV(svd, param_grid, measures=['RMSE'], cv=3, n_jobs=-1, joblib_verbose=1)\n",
    "\n",
    "# Fit the grid search on the data (this might take some time)\n",
    "grid_search.fit(data)\n",
    "\n",
    "# Get the best parameters and the corresponding RMSE score\n",
    "best_params = grid_search.best_params['rmse']\n",
    "best_score = grid_search.best_score['rmse']\n",
    "\n",
    "# Print the best parameters and RMSE score\n",
    "print(\"Best Parameters:\", best_params)\n",
    "print(\"Best RMSE Score:\", best_score)\n"
   ]
  },
  {
   "cell_type": "markdown",
   "metadata": {},
   "source": [
    "Model 3"
   ]
  },
  {
   "cell_type": "code",
   "execution_count": null,
   "metadata": {},
   "outputs": [],
   "source": [
    "# Drop the 'rating' and 'movieId' columns from the DataFrame\n",
    "merged = merged.drop([ 'movieId'], axis=1)\n"
   ]
  },
  {
   "cell_type": "code",
   "execution_count": null,
>>>>>>> 1110fa12df991d4b4f184d845c17215057ad04fb
   "metadata": {},
   "outputs": [
    {
     "data": {
      "text/html": [
       "<div>\n",
       "<style scoped>\n",
       "    .dataframe tbody tr th:only-of-type {\n",
       "        vertical-align: middle;\n",
       "    }\n",
       "\n",
       "    .dataframe tbody tr th {\n",
       "        vertical-align: top;\n",
       "    }\n",
       "\n",
       "    .dataframe thead th {\n",
       "        text-align: right;\n",
       "    }\n",
       "</style>\n",
       "<table border=\"1\" class=\"dataframe\">\n",
       "  <thead>\n",
       "    <tr style=\"text-align: right;\">\n",
       "      <th></th>\n",
       "      <th>title</th>\n",
       "      <th>rating</th>\n",
       "      <th>userId</th>\n",
<<<<<<< HEAD
       "      <th>movieId</th>\n",
=======
>>>>>>> 1110fa12df991d4b4f184d845c17215057ad04fb
       "    </tr>\n",
       "  </thead>\n",
       "  <tbody>\n",
       "    <tr>\n",
       "      <th>0</th>\n",
       "      <td>Toy Story (1995)</td>\n",
       "      <td>4.0</td>\n",
       "      <td>1</td>\n",
<<<<<<< HEAD
       "      <td>1</td>\n",
=======
>>>>>>> 1110fa12df991d4b4f184d845c17215057ad04fb
       "    </tr>\n",
       "    <tr>\n",
       "      <th>1</th>\n",
       "      <td>Toy Story (1995)</td>\n",
       "      <td>4.0</td>\n",
       "      <td>5</td>\n",
<<<<<<< HEAD
       "      <td>1</td>\n",
=======
>>>>>>> 1110fa12df991d4b4f184d845c17215057ad04fb
       "    </tr>\n",
       "    <tr>\n",
       "      <th>2</th>\n",
       "      <td>Toy Story (1995)</td>\n",
       "      <td>4.5</td>\n",
       "      <td>7</td>\n",
<<<<<<< HEAD
       "      <td>1</td>\n",
=======
>>>>>>> 1110fa12df991d4b4f184d845c17215057ad04fb
       "    </tr>\n",
       "    <tr>\n",
       "      <th>3</th>\n",
       "      <td>Toy Story (1995)</td>\n",
       "      <td>2.5</td>\n",
       "      <td>15</td>\n",
<<<<<<< HEAD
       "      <td>1</td>\n",
=======
>>>>>>> 1110fa12df991d4b4f184d845c17215057ad04fb
       "    </tr>\n",
       "    <tr>\n",
       "      <th>4</th>\n",
       "      <td>Toy Story (1995)</td>\n",
       "      <td>4.5</td>\n",
       "      <td>17</td>\n",
<<<<<<< HEAD
       "      <td>1</td>\n",
=======
>>>>>>> 1110fa12df991d4b4f184d845c17215057ad04fb
       "    </tr>\n",
       "    <tr>\n",
       "      <th>...</th>\n",
       "      <td>...</td>\n",
       "      <td>...</td>\n",
       "      <td>...</td>\n",
<<<<<<< HEAD
       "      <td>...</td>\n",
=======
>>>>>>> 1110fa12df991d4b4f184d845c17215057ad04fb
       "    </tr>\n",
       "    <tr>\n",
       "      <th>100831</th>\n",
       "      <td>Black Butler: Book of the Atlantic (2017)</td>\n",
       "      <td>4.0</td>\n",
       "      <td>184</td>\n",
<<<<<<< HEAD
       "      <td>193581</td>\n",
=======
>>>>>>> 1110fa12df991d4b4f184d845c17215057ad04fb
       "    </tr>\n",
       "    <tr>\n",
       "      <th>100832</th>\n",
       "      <td>No Game No Life: Zero (2017)</td>\n",
       "      <td>3.5</td>\n",
       "      <td>184</td>\n",
<<<<<<< HEAD
       "      <td>193583</td>\n",
=======
>>>>>>> 1110fa12df991d4b4f184d845c17215057ad04fb
       "    </tr>\n",
       "    <tr>\n",
       "      <th>100833</th>\n",
       "      <td>Flint (2017)</td>\n",
       "      <td>3.5</td>\n",
       "      <td>184</td>\n",
<<<<<<< HEAD
       "      <td>193585</td>\n",
=======
>>>>>>> 1110fa12df991d4b4f184d845c17215057ad04fb
       "    </tr>\n",
       "    <tr>\n",
       "      <th>100834</th>\n",
       "      <td>Bungo Stray Dogs: Dead Apple (2018)</td>\n",
       "      <td>3.5</td>\n",
       "      <td>184</td>\n",
<<<<<<< HEAD
       "      <td>193587</td>\n",
=======
>>>>>>> 1110fa12df991d4b4f184d845c17215057ad04fb
       "    </tr>\n",
       "    <tr>\n",
       "      <th>100835</th>\n",
       "      <td>Andrew Dice Clay: Dice Rules (1991)</td>\n",
       "      <td>4.0</td>\n",
       "      <td>331</td>\n",
<<<<<<< HEAD
       "      <td>193609</td>\n",
       "    </tr>\n",
       "  </tbody>\n",
       "</table>\n",
       "<p>100836 rows × 4 columns</p>\n",
       "</div>"
      ],
      "text/plain": [
       "                                            title  rating  userId  movieId\n",
       "0                                Toy Story (1995)     4.0       1        1\n",
       "1                                Toy Story (1995)     4.0       5        1\n",
       "2                                Toy Story (1995)     4.5       7        1\n",
       "3                                Toy Story (1995)     2.5      15        1\n",
       "4                                Toy Story (1995)     4.5      17        1\n",
       "...                                           ...     ...     ...      ...\n",
       "100831  Black Butler: Book of the Atlantic (2017)     4.0     184   193581\n",
       "100832               No Game No Life: Zero (2017)     3.5     184   193583\n",
       "100833                               Flint (2017)     3.5     184   193585\n",
       "100834        Bungo Stray Dogs: Dead Apple (2018)     3.5     184   193587\n",
       "100835        Andrew Dice Clay: Dice Rules (1991)     4.0     331   193609\n",
       "\n",
       "[100836 rows x 4 columns]"
      ]
     },
     "execution_count": 169,
=======
       "    </tr>\n",
       "  </tbody>\n",
       "</table>\n",
       "<p>100836 rows × 3 columns</p>\n",
       "</div>"
      ],
      "text/plain": [
       "                                            title  rating  userId\n",
       "0                                Toy Story (1995)     4.0       1\n",
       "1                                Toy Story (1995)     4.0       5\n",
       "2                                Toy Story (1995)     4.5       7\n",
       "3                                Toy Story (1995)     2.5      15\n",
       "4                                Toy Story (1995)     4.5      17\n",
       "...                                           ...     ...     ...\n",
       "100831  Black Butler: Book of the Atlantic (2017)     4.0     184\n",
       "100832               No Game No Life: Zero (2017)     3.5     184\n",
       "100833                               Flint (2017)     3.5     184\n",
       "100834        Bungo Stray Dogs: Dead Apple (2018)     3.5     184\n",
       "100835        Andrew Dice Clay: Dice Rules (1991)     4.0     331\n",
       "\n",
       "[100836 rows x 3 columns]"
      ]
     },
     "execution_count": 614,
>>>>>>> 1110fa12df991d4b4f184d845c17215057ad04fb
     "metadata": {},
     "output_type": "execute_result"
    }
   ],
   "source": [
    "merged"
   ]
  },
  {
<<<<<<< HEAD
   "cell_type": "markdown",
   "metadata": {},
   "source": [
    "# Using average rating"
=======
   "cell_type": "code",
   "execution_count": null,
   "metadata": {},
   "outputs": [],
   "source": [
    "# Define a function to recommend movies for a given user based on ratings\n",
    "def recommend_movies(user_id, top_n=5):\n",
    "    # Get the user's ratings\n",
    "    user_ratings = user_item_matrix.loc[user_id]\n",
    "\n",
    "    # Check if the user has rated all movies in the dataset\n",
    "    if user_ratings.isnull().all():\n",
    "        return \"No unrated movies to recommend.\"\n",
    "\n",
    "    # Find similar users\n",
    "    similar_users = user_similarity_df[user_id].sort_values(ascending=False)[1:]\n",
    "\n",
    "    # Initialize an empty DataFrame to store movie recommendations\n",
    "    recommendations = pd.DataFrame(columns=['title', 'predicted_rating'])\n",
    "\n",
    "    # For each similar user, calculate the predicted rating for unrated movies\n",
    "    for similar_user_id, similarity_score in similar_users.iteritems():\n",
    "        similar_user_ratings = user_item_matrix.loc[similar_user_id]\n",
    "        unrated_movies = similar_user_ratings[user_ratings.isna()].index\n",
    "        predicted_ratings = user_ratings.mean() + similarity_score * (similar_user_ratings[unrated_movies] - similar_user_ratings.mean())\n",
    "        recommendations = recommendations.append(pd.DataFrame({'title': unrated_movies, 'predicted_rating': predicted_ratings}))\n",
    "\n",
    "    # Sort the recommendations by predicted rating in descending order\n",
    "    recommendations = recommendations.sort_values(by='predicted_rating', ascending=False)\n",
    "\n",
    "    # Get the top N recommendations\n",
    "    top_recommendations = recommendations.head(top_n)\n",
    "\n",
    "    return top_recommendations\n",
    "\n",
    "# Example usage: Recommend the top 5 movies for a specific user\n",
    "user_id_to_recommend = 1\n",
    "top_5_recommendations = recommend_movies(user_id_to_recommend, top_n=5)\n",
    "\n"
>>>>>>> 1110fa12df991d4b4f184d845c17215057ad04fb
   ]
  },
  {
   "cell_type": "code",
<<<<<<< HEAD
   "execution_count": 178,
=======
   "execution_count": null,
>>>>>>> 1110fa12df991d4b4f184d845c17215057ad04fb
   "metadata": {},
   "outputs": [
    {
     "name": "stdout",
     "output_type": "stream",
     "text": [
      "Top 5 Highest-Rated Movies:\n",
      "                                    title  rating\n",
      "3354            Gena the Crocodile (1969)     5.0\n",
      "8951                  True Stories (1986)     5.0\n",
      "1986        Cosmic Scrat-tastrophe (2015)     5.0\n",
      "5269              Love and Pigeons (1985)     5.0\n",
      "7033  Red Sorghum (Hong gao liang) (1987)     5.0\n"
     ]
    }
   ],
   "source": [
    "import pandas as pd\n",
    "\n",
    "# Load your dataset as a Pandas DataFrame\n",
    "#data = pd.read_csv('your_data.csv')\n",
    "\n",
    "# Assuming you have columns 'title' and 'rating' in your dataset\n",
    "# Replace these column names with your actual column names if needed\n",
    "\n",
    "# Calculate the average rating for each movie\n",
    "average_ratings = merged.groupby('title')['rating'].mean().reset_index()\n",
    "\n",
    "# Sort movies by average rating in descending order\n",
    "top_rated_movies = average_ratings.sort_values(by='rating', ascending=False)\n",
    "\n",
    "# Get the top 5 highest-rated movies\n",
    "top_5_rated_movies = top_rated_movies.head(5)\n",
    "\n",
    "# Display the result\n",
    "print(\"Top 5 Highest-Rated Movies:\")\n",
    "print(top_5_rated_movies)\n"
   ]
  },
  {
   "cell_type": "code",
<<<<<<< HEAD
   "execution_count": 179,
=======
   "execution_count": null,
>>>>>>> 1110fa12df991d4b4f184d845c17215057ad04fb
   "metadata": {},
   "outputs": [
    {
     "name": "stdout",
     "output_type": "stream",
     "text": [
      "RMSE: 0.9414\n",
      "MAE:  0.7193\n",
      "RMSE: 0.94\n",
      "MAE: 0.72\n"
     ]
    }
   ],
   "source": [
    "from surprise import accuracy\n",
    "\n",
    "# Calculate RMSE (Root Mean Squared Error) and MAE (Mean Absolute Error) on the test set\n",
    "predictions = model.test(testset)\n",
    "\n",
    "rmse = accuracy.rmse(predictions)\n",
    "mae = accuracy.mae(predictions)\n",
    "\n",
    "print(f\"RMSE: {rmse:.2f}\")\n",
    "print(f\"MAE: {mae:.2f}\")\n"
   ]
  },
  {
   "cell_type": "code",
<<<<<<< HEAD
   "execution_count": 172,
=======
   "execution_count": null,
   "metadata": {},
   "outputs": [
    {
     "ename": "TypeError",
     "evalue": "'DatasetAutoFolds' object is not subscriptable",
     "output_type": "error",
     "traceback": [
      "\u001b[1;31m---------------------------------------------------------------------------\u001b[0m",
      "\u001b[1;31mTypeError\u001b[0m                                 Traceback (most recent call last)",
      "\u001b[1;32mc:\\Users\\joshu\\OneDrive\\Desktop\\Movies Data Set\\ml-latest-small\\2index.ipynb Cell 42\u001b[0m line \u001b[0;36m6\n\u001b[0;32m     <a href='vscode-notebook-cell:/c%3A/Users/joshu/OneDrive/Desktop/Movies%20Data%20Set/ml-latest-small/2index.ipynb#Y155sZmlsZQ%3D%3D?line=62'>63</a>\u001b[0m \u001b[39m# Example usage: Recommend the top 5 movies for a specific user using cosine similarity\u001b[39;00m\n\u001b[0;32m     <a href='vscode-notebook-cell:/c%3A/Users/joshu/OneDrive/Desktop/Movies%20Data%20Set/ml-latest-small/2index.ipynb#Y155sZmlsZQ%3D%3D?line=63'>64</a>\u001b[0m user_id_to_recommend \u001b[39m=\u001b[39m \u001b[39m1\u001b[39m\n\u001b[1;32m---> <a href='vscode-notebook-cell:/c%3A/Users/joshu/OneDrive/Desktop/Movies%20Data%20Set/ml-latest-small/2index.ipynb#Y155sZmlsZQ%3D%3D?line=64'>65</a>\u001b[0m top_5_recommendations_cosine \u001b[39m=\u001b[39m recommend_movies(user_id_to_recommend, top_n\u001b[39m=\u001b[39m\u001b[39m5\u001b[39m, similarity_metric\u001b[39m=\u001b[39m\u001b[39m'\u001b[39m\u001b[39mcosine\u001b[39m\u001b[39m'\u001b[39m)\n\u001b[0;32m     <a href='vscode-notebook-cell:/c%3A/Users/joshu/OneDrive/Desktop/Movies%20Data%20Set/ml-latest-small/2index.ipynb#Y155sZmlsZQ%3D%3D?line=65'>66</a>\u001b[0m \u001b[39mprint\u001b[39m(\u001b[39m\"\u001b[39m\u001b[39mTop 5 Recommendations (Cosine Similarity):\u001b[39m\u001b[39m\"\u001b[39m)\n\u001b[0;32m     <a href='vscode-notebook-cell:/c%3A/Users/joshu/OneDrive/Desktop/Movies%20Data%20Set/ml-latest-small/2index.ipynb#Y155sZmlsZQ%3D%3D?line=66'>67</a>\u001b[0m \u001b[39mprint\u001b[39m(top_5_recommendations_cosine)\n",
      "\u001b[1;32mc:\\Users\\joshu\\OneDrive\\Desktop\\Movies Data Set\\ml-latest-small\\2index.ipynb Cell 42\u001b[0m line \u001b[0;36m1\n\u001b[0;32m     <a href='vscode-notebook-cell:/c%3A/Users/joshu/OneDrive/Desktop/Movies%20Data%20Set/ml-latest-small/2index.ipynb#Y155sZmlsZQ%3D%3D?line=14'>15</a>\u001b[0m reader \u001b[39m=\u001b[39m Reader(rating_scale\u001b[39m=\u001b[39m(\u001b[39m1\u001b[39m, \u001b[39m5\u001b[39m))\n\u001b[0;32m     <a href='vscode-notebook-cell:/c%3A/Users/joshu/OneDrive/Desktop/Movies%20Data%20Set/ml-latest-small/2index.ipynb#Y155sZmlsZQ%3D%3D?line=16'>17</a>\u001b[0m \u001b[39m# Load the data into a Surprise Dataset\u001b[39;00m\n\u001b[1;32m---> <a href='vscode-notebook-cell:/c%3A/Users/joshu/OneDrive/Desktop/Movies%20Data%20Set/ml-latest-small/2index.ipynb#Y155sZmlsZQ%3D%3D?line=17'>18</a>\u001b[0m dataset \u001b[39m=\u001b[39m Dataset\u001b[39m.\u001b[39mload_from_df(data[[\u001b[39m'\u001b[39m\u001b[39muserId\u001b[39m\u001b[39m'\u001b[39m, \u001b[39m'\u001b[39m\u001b[39mmovieId\u001b[39m\u001b[39m'\u001b[39m, \u001b[39m'\u001b[39m\u001b[39mrating\u001b[39m\u001b[39m'\u001b[39m]], reader)\n\u001b[0;32m     <a href='vscode-notebook-cell:/c%3A/Users/joshu/OneDrive/Desktop/Movies%20Data%20Set/ml-latest-small/2index.ipynb#Y155sZmlsZQ%3D%3D?line=19'>20</a>\u001b[0m \u001b[39m# Split the dataset into training and test sets\u001b[39;00m\n\u001b[0;32m     <a href='vscode-notebook-cell:/c%3A/Users/joshu/OneDrive/Desktop/Movies%20Data%20Set/ml-latest-small/2index.ipynb#Y155sZmlsZQ%3D%3D?line=20'>21</a>\u001b[0m trainset, testset \u001b[39m=\u001b[39m train_test_split(dataset, test_size\u001b[39m=\u001b[39m\u001b[39m0.2\u001b[39m)\n",
      "\u001b[1;31mTypeError\u001b[0m: 'DatasetAutoFolds' object is not subscriptable"
     ]
    }
   ],
   "source": [
    "import pandas as pd\n",
    "from surprise import Dataset, Reader\n",
    "from surprise import SVD\n",
    "from surprise import KNNBasic\n",
    "from surprise.model_selection import train_test_split\n",
    "from surprise import accuracy\n",
    "from surprise.similarities import pearson, cosine\n",
    "\n",
    "def recommend_movies(user_id, top_n=5, similarity_metric='pearson'):\n",
    "    # Load your dataset (assuming it's in a pandas DataFrame)\n",
    "    # Replace 'your_data.csv' with the actual path to your dataset\n",
    "    #data = pd.read_csv('your_data.csv')\n",
    "\n",
    "    # Create a Reader object to specify the rating scale\n",
    "    reader = Reader(rating_scale=(1, 5))\n",
    "\n",
    "    # Load the data into a Surprise Dataset\n",
    "    dataset = Dataset.load_from_df(data[['userId', 'movieId', 'rating']], reader)\n",
    "\n",
    "    # Split the dataset into training and test sets\n",
    "    trainset, testset = train_test_split(dataset, test_size=0.2)\n",
    "\n",
    "    # Build a similarity metric based on the chosen option\n",
    "    if similarity_metric == 'pearson':\n",
    "        sim_options = {'name': 'pearson'}\n",
    "    elif similarity_metric == 'cosine':\n",
    "        sim_options = {'name': 'cosine'}\n",
    "    else:\n",
    "        raise ValueError(\"Invalid similarity_metric. Use 'pearson' or 'cosine'.\")\n",
    "\n",
    "    # Build a collaborative filtering model\n",
    "    if similarity_metric == 'pearson' or similarity_metric == 'cosine':\n",
    "        model = KNNBasic(sim_options=sim_options)\n",
    "    else:\n",
    "        model = SVD()\n",
    "\n",
    "    # Train the model on the training set\n",
    "    model.fit(trainset)\n",
    "\n",
    "    # Get the list of all movie IDs\n",
    "    all_movie_ids = data['movieId'].unique()\n",
    "\n",
    "    # Get the list of movies that the user has not rated\n",
    "    unrated_movie_ids = [movie_id for movie_id in all_movie_ids if movie_id not in data[data['userId'] == user_id]['movieId'].values]\n",
    "\n",
    "    # Predict ratings for unrated movies\n",
    "    predicted_ratings = [model.predict(user_id, movie_id).est for movie_id in unrated_movie_ids]\n",
    "\n",
    "    # Create a DataFrame of movie recommendations\n",
    "    recommendations = pd.DataFrame({'movieId': unrated_movie_ids, 'predicted_rating': predicted_ratings})\n",
    "\n",
    "    # Sort the recommendations by predicted rating in descending order\n",
    "    recommendations = recommendations.sort_values(by='predicted_rating', ascending=False)\n",
    "\n",
    "    # Get the top N recommendations\n",
    "    top_recommendations = recommendations.head(top_n)\n",
    "\n",
    "    # Merge with movie titles to get movie names\n",
    "    top_recommendations = top_recommendations.merge(data[['movieId', 'title']], on='movieId', how='left')\n",
    "\n",
    "    return top_recommendations\n",
    "\n",
    "# Example usage: Recommend the top 5 movies for a specific user using cosine similarity\n",
    "user_id_to_recommend = 1\n",
    "top_5_recommendations_cosine = recommend_movies(user_id_to_recommend, top_n=5, similarity_metric='cosine')\n",
    "print(\"Top 5 Recommendations (Cosine Similarity):\")\n",
    "print(top_5_recommendations_cosine)\n",
    "\n",
    "# Example usage: Recommend the top 5 movies for a specific user using Pearson correlation\n",
    "top_5_recommendations_pearson = recommend_movies(user_id_to_recommend, top_n=5, similarity_metric='pearson')\n",
    "print(\"\\nTop 5 Recommendations (Pearson Correlation):\")\n",
    "print(top_5_recommendations_pearson)\n"
   ]
  },
  {
   "cell_type": "code",
   "execution_count": null,
   "metadata": {},
   "outputs": [],
   "source": [
    "# Initialize a label encoder for movieTop 5 Movie Recommendations for User 1\n",
    "Empty DataFrame\n",
    "Columns: [title, predicted_rating]\n",
    "Index: [] titles\n",
    "label_encoder = LabelEncoder()\n",
    "merged['movieId'] = label_encoder.fit_transform(merged['title'])"
   ]
  },
  {
   "cell_type": "code",
   "execution_count": null,
   "metadata": {},
   "outputs": [
    {
     "name": "stdout",
     "output_type": "stream",
     "text": [
      "Computing the msd similarity matrix...\n",
      "Done computing similarity matrix.\n"
     ]
    },
    {
     "data": {
      "text/plain": [
       "<surprise.prediction_algorithms.knns.KNNBasic at 0x1cd01ff00d0>"
      ]
     },
     "execution_count": 617,
     "metadata": {},
     "output_type": "execute_result"
    }
   ],
   "source": [
    "# Initialize a Surprise Reader and Dataset\n",
    "reader = Reader(rating_scale=(0.5, 5.0))\n",
    "data = Dataset.load_from_df(df[['userId', 'movieId', 'rating']], reader)\n",
    "\n",
    "# Split the dataset into training and testing sets\n",
    "trainset, testset = train_test_split(data, test_size=0.2, random_state=42)\n",
    "\n",
    "# Choose a collaborative filtering algorithm (KNNBasic) and train it on the training set\n",
    "collab_filter_model = KNNBasic(sim_options={'user_based': True})\n",
    "collab_filter_model.fit(trainset)\n"
   ]
  },
  {
   "cell_type": "code",
   "execution_count": null,
   "metadata": {},
   "outputs": [
    {
     "ename": "KeyError",
     "evalue": "'genres'",
     "output_type": "error",
     "traceback": [
      "\u001b[1;31m---------------------------------------------------------------------------\u001b[0m",
      "\u001b[1;31mKeyError\u001b[0m                                  Traceback (most recent call last)",
      "File \u001b[1;32mc:\\Users\\joshu\\anaconda3\\Lib\\site-packages\\pandas\\core\\indexes\\base.py:3802\u001b[0m, in \u001b[0;36mIndex.get_loc\u001b[1;34m(self, key, method, tolerance)\u001b[0m\n\u001b[0;32m   3801\u001b[0m \u001b[39mtry\u001b[39;00m:\n\u001b[1;32m-> 3802\u001b[0m     \u001b[39mreturn\u001b[39;00m \u001b[39mself\u001b[39m\u001b[39m.\u001b[39m_engine\u001b[39m.\u001b[39mget_loc(casted_key)\n\u001b[0;32m   3803\u001b[0m \u001b[39mexcept\u001b[39;00m \u001b[39mKeyError\u001b[39;00m \u001b[39mas\u001b[39;00m err:\n",
      "File \u001b[1;32mc:\\Users\\joshu\\anaconda3\\Lib\\site-packages\\pandas\\_libs\\index.pyx:138\u001b[0m, in \u001b[0;36mpandas._libs.index.IndexEngine.get_loc\u001b[1;34m()\u001b[0m\n",
      "File \u001b[1;32mc:\\Users\\joshu\\anaconda3\\Lib\\site-packages\\pandas\\_libs\\index.pyx:165\u001b[0m, in \u001b[0;36mpandas._libs.index.IndexEngine.get_loc\u001b[1;34m()\u001b[0m\n",
      "File \u001b[1;32mpandas\\_libs\\hashtable_class_helper.pxi:5745\u001b[0m, in \u001b[0;36mpandas._libs.hashtable.PyObjectHashTable.get_item\u001b[1;34m()\u001b[0m\n",
      "File \u001b[1;32mpandas\\_libs\\hashtable_class_helper.pxi:5753\u001b[0m, in \u001b[0;36mpandas._libs.hashtable.PyObjectHashTable.get_item\u001b[1;34m()\u001b[0m\n",
      "\u001b[1;31mKeyError\u001b[0m: 'genres'",
      "\nThe above exception was the direct cause of the following exception:\n",
      "\u001b[1;31mKeyError\u001b[0m                                  Traceback (most recent call last)",
      "\u001b[1;32mc:\\Users\\joshu\\OneDrive\\Desktop\\Movies Data Set\\ml-latest-small\\2index.ipynb Cell 36\u001b[0m line \u001b[0;36m3\n\u001b[0;32m      <a href='vscode-notebook-cell:/c%3A/Users/joshu/OneDrive/Desktop/Movies%20Data%20Set/ml-latest-small/2index.ipynb#Y113sZmlsZQ%3D%3D?line=0'>1</a>\u001b[0m \u001b[39m# Create a TF-IDF vectorizer for movie titles and genres\u001b[39;00m\n\u001b[0;32m      <a href='vscode-notebook-cell:/c%3A/Users/joshu/OneDrive/Desktop/Movies%20Data%20Set/ml-latest-small/2index.ipynb#Y113sZmlsZQ%3D%3D?line=1'>2</a>\u001b[0m tfidf_vectorizer \u001b[39m=\u001b[39m TfidfVectorizer(stop_words\u001b[39m=\u001b[39m\u001b[39m'\u001b[39m\u001b[39menglish\u001b[39m\u001b[39m'\u001b[39m)\n\u001b[1;32m----> <a href='vscode-notebook-cell:/c%3A/Users/joshu/OneDrive/Desktop/Movies%20Data%20Set/ml-latest-small/2index.ipynb#Y113sZmlsZQ%3D%3D?line=2'>3</a>\u001b[0m tfidf_matrix \u001b[39m=\u001b[39m tfidf_vectorizer\u001b[39m.\u001b[39mfit_transform(merged[\u001b[39m'\u001b[39m\u001b[39mtitle\u001b[39m\u001b[39m'\u001b[39m] \u001b[39m+\u001b[39m \u001b[39m'\u001b[39m\u001b[39m \u001b[39m\u001b[39m'\u001b[39m \u001b[39m+\u001b[39m merged[\u001b[39m'\u001b[39m\u001b[39mgenres\u001b[39m\u001b[39m'\u001b[39m])\n\u001b[0;32m      <a href='vscode-notebook-cell:/c%3A/Users/joshu/OneDrive/Desktop/Movies%20Data%20Set/ml-latest-small/2index.ipynb#Y113sZmlsZQ%3D%3D?line=4'>5</a>\u001b[0m \u001b[39m# Calculate the cosine similarity between movies based on titles and genres\u001b[39;00m\n\u001b[0;32m      <a href='vscode-notebook-cell:/c%3A/Users/joshu/OneDrive/Desktop/Movies%20Data%20Set/ml-latest-small/2index.ipynb#Y113sZmlsZQ%3D%3D?line=5'>6</a>\u001b[0m cosine_sim \u001b[39m=\u001b[39m linear_kernel(tfidf_matrix, tfidf_matrix)\n",
      "File \u001b[1;32mc:\\Users\\joshu\\anaconda3\\Lib\\site-packages\\pandas\\core\\frame.py:3807\u001b[0m, in \u001b[0;36mDataFrame.__getitem__\u001b[1;34m(self, key)\u001b[0m\n\u001b[0;32m   3805\u001b[0m \u001b[39mif\u001b[39;00m \u001b[39mself\u001b[39m\u001b[39m.\u001b[39mcolumns\u001b[39m.\u001b[39mnlevels \u001b[39m>\u001b[39m \u001b[39m1\u001b[39m:\n\u001b[0;32m   3806\u001b[0m     \u001b[39mreturn\u001b[39;00m \u001b[39mself\u001b[39m\u001b[39m.\u001b[39m_getitem_multilevel(key)\n\u001b[1;32m-> 3807\u001b[0m indexer \u001b[39m=\u001b[39m \u001b[39mself\u001b[39m\u001b[39m.\u001b[39mcolumns\u001b[39m.\u001b[39mget_loc(key)\n\u001b[0;32m   3808\u001b[0m \u001b[39mif\u001b[39;00m is_integer(indexer):\n\u001b[0;32m   3809\u001b[0m     indexer \u001b[39m=\u001b[39m [indexer]\n",
      "File \u001b[1;32mc:\\Users\\joshu\\anaconda3\\Lib\\site-packages\\pandas\\core\\indexes\\base.py:3804\u001b[0m, in \u001b[0;36mIndex.get_loc\u001b[1;34m(self, key, method, tolerance)\u001b[0m\n\u001b[0;32m   3802\u001b[0m     \u001b[39mreturn\u001b[39;00m \u001b[39mself\u001b[39m\u001b[39m.\u001b[39m_engine\u001b[39m.\u001b[39mget_loc(casted_key)\n\u001b[0;32m   3803\u001b[0m \u001b[39mexcept\u001b[39;00m \u001b[39mKeyError\u001b[39;00m \u001b[39mas\u001b[39;00m err:\n\u001b[1;32m-> 3804\u001b[0m     \u001b[39mraise\u001b[39;00m \u001b[39mKeyError\u001b[39;00m(key) \u001b[39mfrom\u001b[39;00m \u001b[39merr\u001b[39;00m\n\u001b[0;32m   3805\u001b[0m \u001b[39mexcept\u001b[39;00m \u001b[39mTypeError\u001b[39;00m:\n\u001b[0;32m   3806\u001b[0m     \u001b[39m# If we have a listlike key, _check_indexing_error will raise\u001b[39;00m\n\u001b[0;32m   3807\u001b[0m     \u001b[39m#  InvalidIndexError. Otherwise we fall through and re-raise\u001b[39;00m\n\u001b[0;32m   3808\u001b[0m     \u001b[39m#  the TypeError.\u001b[39;00m\n\u001b[0;32m   3809\u001b[0m     \u001b[39mself\u001b[39m\u001b[39m.\u001b[39m_check_indexing_error(key)\n",
      "\u001b[1;31mKeyError\u001b[0m: 'genres'"
     ]
    }
   ],
   "source": [
    "# Create a TF-IDF vectorizer for movie titles and genres\n",
    "tfidf_vectorizer = TfidfVectorizer(stop_words='english')\n",
    "tfidf_matrix = tfidf_vectorizer.fit_transform(merged['title'] + ' ' + merged['genres'])\n",
    "\n",
    "# Calculate the cosine similarity between movies based on titles and genres\n",
    "cosine_sim = linear_kernel(tfidf_matrix, tfidf_matrix)\n"
   ]
  },
  {
   "cell_type": "code",
   "execution_count": null,
   "metadata": {},
   "outputs": [
    {
     "name": "stdout",
     "output_type": "stream",
     "text": [
      "Top 5 Movie Recommendations for User 1:\n",
      "Cry, the Beloved Country (1995) (Estimated Rating: 5.00)\n",
      "Lamerica (1994) (Estimated Rating: 5.00)\n",
      "Awfully Big Adventure, An (1995) (Estimated Rating: 5.00)\n",
      "Colonel Chabert, Le (1994) (Estimated Rating: 5.00)\n",
      "Live Nude Girls (1995) (Estimated Rating: 5.00)\n"
     ]
    }
   ],
   "source": [
    "# New Model: Collaborative Filtering with SVD\n",
    "new_model = SVD()  # Replace with your choice of collaborative filtering algorithm\n",
    "new_model.fit(trainset)\n",
    "\n",
    "# Predict ratings for movies the user has not rated using the new model\n",
    "new_predictions = [new_model.predict(user_id, movie_id,) for movie_id in movies_to_predict]\n",
    "\n",
    "# Sort the new model predictions by estimated rating in descending order\n",
    "new_predictions.sort(key=lambda x: x.est, reverse=True)\n",
    "\n",
    "# Get the top 5 new model recommendations\n",
    "top_5_new_model_recommendations = new_predictions[:5]\n",
    "\n",
    "# Display the top 5 movie recommendations for the user\n",
    "print(f\"Top 5 Movie Recommendations for User {user_id}:\")\n",
    "for prediction in top_5_recommendations:\n",
    "    movie_title = merged[merged['movieId'] == prediction.iid]['title'].values[0]\n",
    "    estimated_rating = prediction.est\n",
    "    print(f\"{movie_title} (Estimated Rating: {estimated_rating:.2f})\")\n"
   ]
  },
  {
   "cell_type": "code",
   "execution_count": null,
>>>>>>> 1110fa12df991d4b4f184d845c17215057ad04fb
   "metadata": {},
   "outputs": [
    {
     "name": "stdout",
     "output_type": "stream",
     "text": [
      "                                    title  rating\n",
      "3354            Gena the Crocodile (1969)     5.0\n",
      "8951                  True Stories (1986)     5.0\n",
      "1986        Cosmic Scrat-tastrophe (2015)     5.0\n",
      "5269              Love and Pigeons (1985)     5.0\n",
      "7033  Red Sorghum (Hong gao liang) (1987)     5.0\n"
     ]
    }
   ],
   "source": [
    "import pandas as pd\n",
    "\n",
    "# Assuming your dataset is stored in a DataFrame named 'df'\n",
    "# Calculate the average rating for each movie\n",
    "average_ratings = merged.groupby('title')['rating'].mean().reset_index()\n",
    "\n",
    "# Sort movies by average rating in descending order\n",
    "top_rated_movies = average_ratings.sort_values(by='rating', ascending=False)\n",
    "\n",
    "# Select the top 5 movies with the highest average ratings\n",
    "top_5_movies = top_rated_movies.head(5)\n",
    "\n",
    "# Display the top 5 recommended movies\n",
    "print(top_5_movies)\n"
   ]
<<<<<<< HEAD
  },
  {
   "cell_type": "code",
   "execution_count": 191,
   "metadata": {},
   "outputs": [
    {
     "data": {
      "text/html": [
       "<div>\n",
       "<style scoped>\n",
       "    .dataframe tbody tr th:only-of-type {\n",
       "        vertical-align: middle;\n",
       "    }\n",
       "\n",
       "    .dataframe tbody tr th {\n",
       "        vertical-align: top;\n",
       "    }\n",
       "\n",
       "    .dataframe thead th {\n",
       "        text-align: right;\n",
       "    }\n",
       "</style>\n",
       "<table border=\"1\" class=\"dataframe\">\n",
       "  <thead>\n",
       "    <tr style=\"text-align: right;\">\n",
       "      <th></th>\n",
       "      <th>title</th>\n",
       "      <th>rating</th>\n",
       "      <th>userId</th>\n",
       "      <th>movieId</th>\n",
       "    </tr>\n",
       "  </thead>\n",
       "  <tbody>\n",
       "    <tr>\n",
       "      <th>0</th>\n",
       "      <td>Toy Story (1995)</td>\n",
       "      <td>4.0</td>\n",
       "      <td>1</td>\n",
       "      <td>1</td>\n",
       "    </tr>\n",
       "    <tr>\n",
       "      <th>1</th>\n",
       "      <td>Toy Story (1995)</td>\n",
       "      <td>4.0</td>\n",
       "      <td>5</td>\n",
       "      <td>1</td>\n",
       "    </tr>\n",
       "    <tr>\n",
       "      <th>2</th>\n",
       "      <td>Toy Story (1995)</td>\n",
       "      <td>4.5</td>\n",
       "      <td>7</td>\n",
       "      <td>1</td>\n",
       "    </tr>\n",
       "    <tr>\n",
       "      <th>3</th>\n",
       "      <td>Toy Story (1995)</td>\n",
       "      <td>2.5</td>\n",
       "      <td>15</td>\n",
       "      <td>1</td>\n",
       "    </tr>\n",
       "    <tr>\n",
       "      <th>4</th>\n",
       "      <td>Toy Story (1995)</td>\n",
       "      <td>4.5</td>\n",
       "      <td>17</td>\n",
       "      <td>1</td>\n",
       "    </tr>\n",
       "    <tr>\n",
       "      <th>...</th>\n",
       "      <td>...</td>\n",
       "      <td>...</td>\n",
       "      <td>...</td>\n",
       "      <td>...</td>\n",
       "    </tr>\n",
       "    <tr>\n",
       "      <th>100831</th>\n",
       "      <td>Black Butler: Book of the Atlantic (2017)</td>\n",
       "      <td>4.0</td>\n",
       "      <td>184</td>\n",
       "      <td>193581</td>\n",
       "    </tr>\n",
       "    <tr>\n",
       "      <th>100832</th>\n",
       "      <td>No Game No Life: Zero (2017)</td>\n",
       "      <td>3.5</td>\n",
       "      <td>184</td>\n",
       "      <td>193583</td>\n",
       "    </tr>\n",
       "    <tr>\n",
       "      <th>100833</th>\n",
       "      <td>Flint (2017)</td>\n",
       "      <td>3.5</td>\n",
       "      <td>184</td>\n",
       "      <td>193585</td>\n",
       "    </tr>\n",
       "    <tr>\n",
       "      <th>100834</th>\n",
       "      <td>Bungo Stray Dogs: Dead Apple (2018)</td>\n",
       "      <td>3.5</td>\n",
       "      <td>184</td>\n",
       "      <td>193587</td>\n",
       "    </tr>\n",
       "    <tr>\n",
       "      <th>100835</th>\n",
       "      <td>Andrew Dice Clay: Dice Rules (1991)</td>\n",
       "      <td>4.0</td>\n",
       "      <td>331</td>\n",
       "      <td>193609</td>\n",
       "    </tr>\n",
       "  </tbody>\n",
       "</table>\n",
       "<p>100836 rows × 4 columns</p>\n",
       "</div>"
      ],
      "text/plain": [
       "                                            title  rating  userId  movieId\n",
       "0                                Toy Story (1995)     4.0       1        1\n",
       "1                                Toy Story (1995)     4.0       5        1\n",
       "2                                Toy Story (1995)     4.5       7        1\n",
       "3                                Toy Story (1995)     2.5      15        1\n",
       "4                                Toy Story (1995)     4.5      17        1\n",
       "...                                           ...     ...     ...      ...\n",
       "100831  Black Butler: Book of the Atlantic (2017)     4.0     184   193581\n",
       "100832               No Game No Life: Zero (2017)     3.5     184   193583\n",
       "100833                               Flint (2017)     3.5     184   193585\n",
       "100834        Bungo Stray Dogs: Dead Apple (2018)     3.5     184   193587\n",
       "100835        Andrew Dice Clay: Dice Rules (1991)     4.0     331   193609\n",
       "\n",
       "[100836 rows x 4 columns]"
      ]
     },
     "execution_count": 191,
     "metadata": {},
     "output_type": "execute_result"
    }
   ],
   "source": [
    "merged\n"
   ]
  },
  {
   "cell_type": "markdown",
   "metadata": {},
   "source": [
    "#  Model 3 SVD Model"
   ]
  },
  {
   "cell_type": "code",
   "execution_count": 192,
   "metadata": {},
   "outputs": [
    {
     "name": "stdout",
     "output_type": "stream",
     "text": [
      "RMSE: 0.8607\n",
      "\n",
      "SVD RMSE: 0.8606687274370511\n",
      "Top 5 Movie Recommendations for All Users (Combined User):\n",
      "Streetcar Named Desire, A (1951) (Estimated Rating: 4.45)\n",
      "Lawrence of Arabia (1962) (Estimated Rating: 4.40)\n",
      "Dr. Strangelove or: How I Learned to Stop Worrying and Love the Bomb (1964) (Estimated Rating: 4.36)\n",
      "Shawshank Redemption, The (1994) (Estimated Rating: 4.33)\n",
      "Grand Day Out with Wallace and Gromit, A (1989) (Estimated Rating: 4.30)\n"
     ]
    }
   ],
   "source": [
    "from surprise import SVD\n",
    "from surprise import Dataset, Reader, accuracy\n",
    "\n",
    "# Load your movie ratings dataset\n",
    "reader = Reader(rating_scale=(0.5, 5.0))\n",
    "data = Dataset.load_from_df(merged[['userId', 'movieId', 'rating']], reader)\n",
    "\n",
    "# Split the dataset into training and testing sets\n",
    "trainset, testset = train_test_split(data, test_size=0.2, random_state=42)\n",
    "\n",
    "# Create an SVD model with the best parameters\n",
    "svd_model = SVD(n_epochs=15, lr_all=0.01, reg_all=0.06)\n",
    "\n",
    "# Train the SVD model on the training set\n",
    "svd_model.fit(trainset)\n",
    "\n",
    "# Make predictions on the test set\n",
    "svd_predictions = svd_model.test(testset)\n",
    "\n",
    "# Calculate RMSE\n",
    "svd_rmse = accuracy.rmse(svd_predictions)\n",
    "\n",
    "print(\"\\nSVD RMSE:\", svd_rmse)\n",
    "\n",
    "# Get a list of all movie IDs\n",
    "all_movie_ids = merged['movieId'].unique()\n",
    "\n",
    "# Predict ratings for all movies for a combined user\n",
    "combined_user_id = 'Combined_User'\n",
    "combined_user_ratings = [(combined_user_id, movie_id, 0.0) for movie_id in all_movie_ids]\n",
    "predictions = svd_model.test(combined_user_ratings)\n",
    "\n",
    "# Sort the predictions by estimated rating in descending order\n",
    "predictions.sort(key=lambda x: x.est, reverse=True)\n",
    "\n",
    "# Get the top 5 movie recommendations for all users\n",
    "top_5_recommendations = predictions[:5]\n",
    "\n",
    "# Print the top 5 movie recommendations for all users\n",
    "print(\"Top 5 Movie Recommendations for All Users (Combined User):\")\n",
    "for prediction in top_5_recommendations:\n",
    "    movie_title = merged[merged['movieId'] == prediction.iid]['title'].values[0]\n",
    "    estimated_rating = prediction.est\n",
    "    print(f\"{movie_title} (Estimated Rating: {estimated_rating:.2f})\")\n"
   ]
  },
  {
   "cell_type": "markdown",
   "metadata": {},
   "source": [
    "# This cell shows code for top 5 recomendations  for each user "
   ]
  },
  {
   "cell_type": "code",
   "execution_count": 194,
   "metadata": {},
   "outputs": [
    {
     "name": "stdout",
     "output_type": "stream",
     "text": [
      "RMSE: 0.8601\n",
      "\n",
      "SVD RMSE: 0.8601188948461199\n",
      "Top 5 Movie Recommendations for User 23:\n",
      "Streetcar Named Desire, A (1951) (Estimated Rating: 4.43)\n",
      "Dr. Strangelove or: How I Learned to Stop Worrying and Love the Bomb (1964) (Estimated Rating: 4.38)\n",
      "Lawrence of Arabia (1962) (Estimated Rating: 4.36)\n",
      "Shawshank Redemption, The (1994) (Estimated Rating: 4.33)\n",
      "Grand Day Out with Wallace and Gromit, A (1989) (Estimated Rating: 4.32)\n"
     ]
    }
   ],
   "source": [
    "from surprise import SVD\n",
    "from surprise import Dataset, Reader, accuracy\n",
    "\n",
    "# Load your movie ratings dataset\n",
    "reader = Reader(rating_scale=(0.5, 5.0))\n",
    "data = Dataset.load_from_df(merged[['userId', 'movieId', 'rating']], reader)\n",
    "\n",
    "# Split the dataset into training and testing sets\n",
    "trainset, testset = train_test_split(data, test_size=0.2, random_state=42)\n",
    "\n",
    "# Create an SVD model with the best parameters\n",
    "svd_model = SVD(n_epochs=15, lr_all=0.01, reg_all=0.06)\n",
    "\n",
    "# Train the SVD model on the training set\n",
    "svd_model.fit(trainset)\n",
    "\n",
    "# Make predictions on the test set\n",
    "svd_predictions = svd_model.test(testset)\n",
    "\n",
    "# Calculate RMSE\n",
    "svd_rmse = accuracy.rmse(svd_predictions)\n",
    "\n",
    "print(\"\\nSVD RMSE:\", svd_rmse)\n",
    "# Get a list of all movie IDs\n",
    "all_movie_ids = merged['movieId'].unique()\n",
    "\n",
    "# Remove movies that the user has already rated\n",
    "movies_rated_by_user = merged[merged['userId'] == \"23\"]['movieId'].values\n",
    "movies_to_predict = [movie_id for movie_id in all_movie_ids if movie_id not in movies_rated_by_user]\n",
    "\n",
    "# Predict ratings for movies the user has not rated\n",
    "predictions = [svd_model.predict(\"23\", movie_id) for movie_id in movies_to_predict]\n",
    "\n",
    "# Sort the predictions by estimated rating in descending order\n",
    "predictions.sort(key=lambda x: x.est, reverse=True)\n",
    "\n",
    "# Get the top 5 movie recommendations\n",
    "top_5_recommendations = predictions[:5]\n",
    "\n",
    "# Print the top 5 movie recommendations for the user\n",
    "print(f\"Top 5 Movie Recommendations for User {23}:\")\n",
    "for prediction in top_5_recommendations:\n",
    "    movie_title = merged[merged['movieId'] == prediction.iid]['title'].values[0]\n",
    "    estimated_rating = prediction.est\n",
    "    print(f\"{movie_title} (Estimated Rating: {estimated_rating:.2f})\")"
   ]
  },
  {
   "cell_type": "markdown",
   "metadata": {},
   "source": [
    "# Hyperparameter tuning  using  grid_search"
   ]
  },
  {
   "cell_type": "code",
   "execution_count": 184,
   "metadata": {},
   "outputs": [
    {
     "name": "stdout",
     "output_type": "stream",
     "text": [
      "Best Parameters: {'n_epochs': 20, 'lr_all': 0.02, 'reg_all': 0.06}\n",
      "Best RMSE: 0.8665445527806307\n"
     ]
    }
   ],
   "source": [
    "from surprise.model_selection import GridSearchCV\n",
    "\n",
    "# Define the parameter grid to search over\n",
    "param_grid = {\n",
    "    'n_epochs': [10, 15, 20],   # Number of iterations\n",
    "    'lr_all': [0.005, 0.01, 0.02],  # Learning rate for all parameters\n",
    "    'reg_all': [0.02, 0.04, 0.06]  # Regularization term for all parameters\n",
    "}\n",
    "\n",
    "# Create a GridSearchCV object with the SVD model and parameter grid\n",
    "grid_search = GridSearchCV(SVD, param_grid, measures=['rmse'], cv=3)\n",
    "\n",
    "# Fit the grid search to the data\n",
    "grid_search.fit(data)\n",
    "\n",
    "# Get the best parameters and best RMSE score\n",
    "best_params = grid_search.best_params['rmse']\n",
    "best_rmse = grid_search.best_score['rmse']\n",
    "\n",
    "print(\"Best Parameters:\", best_params)\n",
    "print(\"Best RMSE:\", best_rmse)\n"
   ]
  },
  {
   "cell_type": "markdown",
   "metadata": {},
   "source": [
    "# A/B testing"
   ]
  },
  {
   "cell_type": "code",
   "execution_count": 147,
   "metadata": {},
   "outputs": [
    {
     "name": "stdout",
     "output_type": "stream",
     "text": [
      "RMSE: 0.8590\n",
      "RMSE: 0.8656\n",
      "There is no significant difference between the Variant and Control Groups.\n"
     ]
    }
   ],
   "source": [
    "import numpy as np\n",
    "from scipy import stats\n",
    "from surprise import SVD, Dataset, Reader, accuracy\n",
    "from surprise.model_selection import train_test_split\n",
    "\n",
    "# Load your movie ratings dataset\n",
    "reader = Reader(rating_scale=(0.5, 5.0))\n",
    "data = Dataset.load_from_df(merged[['userId', 'movieId', 'rating']], reader)\n",
    "\n",
    "# Split the dataset into training and testing sets\n",
    "trainset, testset = train_test_split(data, test_size=0.2, random_state=42)\n",
    "\n",
    "# Create an SVD model with the best parameters as Control Group\n",
    "control_model = SVD(n_epochs=15, lr_all=0.01, reg_all=0.06)\n",
    "\n",
    "# Train the SVD control model on the training set\n",
    "control_model.fit(trainset)\n",
    "\n",
    "# Make predictions on the test set\n",
    "control_predictions = control_model.test(testset)\n",
    "\n",
    "# Calculate RMSE for the Control Group\n",
    "control_rmse = accuracy.rmse(control_predictions)\n",
    "\n",
    "# Implement a Variant (Experiment Group), for example, using different hyperparameters\n",
    "variant_model = SVD(n_epochs=20, lr_all=0.005, reg_all=0.05)\n",
    "\n",
    "# Train the SVD variant model on the training set\n",
    "variant_model.fit(trainset)\n",
    "\n",
    "# Make predictions on the test set for the Variant (Experiment Group)\n",
    "variant_predictions = variant_model.test(testset)\n",
    "\n",
    "# Calculate RMSE for the Variant (Experiment Group)\n",
    "variant_rmse = accuracy.rmse(variant_predictions)\n",
    "\n",
    "# Perform statistical hypothesis testing (two-sample t-test) to compare the two RMSE values\n",
    "t_stat, p_value = stats.ttest_rel(control_rmse, variant_rmse)\n",
    "\n",
    "# Define the significance level (alpha)\n",
    "alpha = 0.05\n",
    "\n",
    "# Check if the p-value is less than the significance level\n",
    "if p_value < alpha:\n",
    "    print(\"The Variant (Experiment Group) significantly outperforms the Control Group.\")\n",
    "else:\n",
    "    print(\"There is no significant difference between the Variant and Control Groups.\")\n",
    "\n",
    "# Implement the winning model (if Variant outperforms) in your recommendation system\n",
    "if variant_rmse < control_rmse:\n",
    "    final_model = variant_model\n",
    "else:\n",
    "    final_model = control_model\n",
    "\n",
    "# You can now use the final_model for recommendations in your application\n"
   ]
  },
  {
   "cell_type": "markdown",
   "metadata": {},
   "source": [
    "# Evaluation"
   ]
  },
  {
   "cell_type": "markdown",
   "metadata": {},
   "source": [
    "Use of a Collaborative Filtering Algorithm: The use of SVD is a widely recognized collaborative filtering algorithm for recommendation systems. It leverages user ratings on movies to make personalized recommendations, which is a common and effective approach.\n",
    "\n",
    "Surprise Library: The code utilizes the Surprise library, which is a popular choice for building recommendation systems in Python. Surprise provides a convenient interface for creating and evaluating recommendation models.\n",
    "\n",
    "Evaluation Metric: The code calculates the Root Mean Square Error (RMSE) to assess the accuracy of the recommendation model. RMSE is a standard metric for regression-based recommendation systems, and it provides a quantitative measure of how well the model predicts user ratings.\n",
    "\n",
    "Top 5 Recommendations: The model generates and displays the top 5 movie recommendations for a user, which is a reasonable number for presenting recommendations."
   ]
  },
  {
   "cell_type": "markdown",
   "metadata": {},
   "source": [
    "# Conclusion"
   ]
  },
  {
   "cell_type": "markdown",
   "metadata": {},
   "source": [
    "According to the datset and the and the models that we implimented svd gave the lowest Rmse comming out as the best recommendation model . Even after  tuning  and a/b testing the  Rmse didnt change much thus meaning that could be the best result . The top rated movies according to svd model are:\n",
    "Top 5 Movie Recommendations for All Users (Combined User):\n",
    "Streetcar Named Desire, A (1951) (Estimated Rating: 4.45)\n",
    "Lawrence of Arabia (1962) (Estimated Rating: 4.40)\n",
    "Dr. Strangelove or: How I Learned to Stop Worrying and Love the Bomb (1964) (Estimated Rating: 4.36)\n",
    "Shawshank Redemption, The (1994) (Estimated Rating: 4.33)\n",
    "Grand Day Out with Wallace and Gromit, A (1989) (Estimated Rating: 4.30)"
   ]
  },
  {
   "cell_type": "markdown",
   "metadata": {},
   "source": [
    "# Recommendation"
   ]
  },
  {
   "cell_type": "markdown",
   "metadata": {},
   "source": [
    "\n",
    "\n",
    "SVD Model Deployment: Since the SVD model has shown promising results with the lowest RMSE, consider deploying this model in a production environment. Ensure that the model can handle real-time user interactions and data updates.\n",
    "\n",
    "Real-Time Recommendations: Implement a system that provides real-time movie recommendations to users based on their ratings and preferences. Users should be able to rate movies and receive immediate recommendations.\n",
    "\n",
    "User Profiles: Create user profiles that store user ratings and preferences over time. Continuously update these profiles as users interact with the platform. User profiles will be instrumental in making personalized recommendations.\n",
    "\n",
    "Feedback Mechanism: Implement a feedback mechanism that allows users to provide explicit feedback on recommended movies. This feedback can include ratings, likes, and dislikes. Use this feedback to refine the recommendation model.\n",
    "\n",
    "Diverse Recommendations: Enhance the SVD model to provide diverse recommendations. While the current top-rated movies are valuable, ensure that users receive recommendations from various genres and styles to cater to different tastes."
   ]
=======
>>>>>>> 1110fa12df991d4b4f184d845c17215057ad04fb
  }
 ],
 "metadata": {
  "kernelspec": {
   "display_name": "base",
   "language": "python",
   "name": "python3"
  },
  "language_info": {
   "codemirror_mode": {
    "name": "ipython",
    "version": 3
   },
   "file_extension": ".py",
   "mimetype": "text/x-python",
   "name": "python",
   "nbconvert_exporter": "python",
   "pygments_lexer": "ipython3",
   "version": "3.11.4"
  },
  "orig_nbformat": 4
 },
 "nbformat": 4,
 "nbformat_minor": 2
}
